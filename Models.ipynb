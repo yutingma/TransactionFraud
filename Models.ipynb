{
 "cells": [
  {
   "cell_type": "code",
   "execution_count": 1,
   "metadata": {},
   "outputs": [],
   "source": [
    "import pandas as pd\n",
    "import numpy as np"
   ]
  },
  {
   "cell_type": "code",
   "execution_count": 131,
   "metadata": {},
   "outputs": [
    {
     "data": {
      "text/html": [
       "<div>\n",
       "<style scoped>\n",
       "    .dataframe tbody tr th:only-of-type {\n",
       "        vertical-align: middle;\n",
       "    }\n",
       "\n",
       "    .dataframe tbody tr th {\n",
       "        vertical-align: top;\n",
       "    }\n",
       "\n",
       "    .dataframe thead th {\n",
       "        text-align: right;\n",
       "    }\n",
       "</style>\n",
       "<table border=\"1\" class=\"dataframe\">\n",
       "  <thead>\n",
       "    <tr style=\"text-align: right;\">\n",
       "      <th></th>\n",
       "      <th>Recnum</th>\n",
       "      <th>Cardnum</th>\n",
       "      <th>Date</th>\n",
       "      <th>Merchnum</th>\n",
       "      <th>Merch description</th>\n",
       "      <th>Merch state</th>\n",
       "      <th>Merch zip</th>\n",
       "      <th>Transtype</th>\n",
       "      <th>Amount</th>\n",
       "      <th>Fraud</th>\n",
       "      <th>...</th>\n",
       "      <th>Total__Merchnum_1Count__Merchnum_7</th>\n",
       "      <th>Total__Merchnum_1Total__Merchnum_7</th>\n",
       "      <th>Total__Merchnum_1Count__Cardnum_14</th>\n",
       "      <th>Total__Merchnum_1Total__Cardnum_14</th>\n",
       "      <th>Total__Merchnum_1Count__Merchnum_14</th>\n",
       "      <th>Total__Merchnum_1Total__Merchnum_14</th>\n",
       "      <th>Total__Merchnum_1Count__Cardnum_30</th>\n",
       "      <th>Total__Merchnum_1Total__Cardnum_30</th>\n",
       "      <th>Total__Merchnum_1Count__Merchnum_30</th>\n",
       "      <th>Total__Merchnum_1Total__Merchnum_30</th>\n",
       "    </tr>\n",
       "  </thead>\n",
       "  <tbody>\n",
       "    <tr>\n",
       "      <th>0</th>\n",
       "      <td>1</td>\n",
       "      <td>5142190439</td>\n",
       "      <td>2010-01-01</td>\n",
       "      <td>5509006296254</td>\n",
       "      <td>FEDEX SHP 12/23/09 AB#</td>\n",
       "      <td>TN</td>\n",
       "      <td>38118</td>\n",
       "      <td>P</td>\n",
       "      <td>3.62</td>\n",
       "      <td>0</td>\n",
       "      <td>...</td>\n",
       "      <td>143.840000</td>\n",
       "      <td>4.417012</td>\n",
       "      <td>539.40</td>\n",
       "      <td>149.005525</td>\n",
       "      <td>269.700000</td>\n",
       "      <td>8.281898</td>\n",
       "      <td>1114.76</td>\n",
       "      <td>307.944751</td>\n",
       "      <td>557.380000</td>\n",
       "      <td>17.115922</td>\n",
       "    </tr>\n",
       "    <tr>\n",
       "      <th>1</th>\n",
       "      <td>2</td>\n",
       "      <td>5142183973</td>\n",
       "      <td>2010-01-01</td>\n",
       "      <td>61003026333</td>\n",
       "      <td>SERVICE MERCHANDISE #81</td>\n",
       "      <td>MA</td>\n",
       "      <td>1803</td>\n",
       "      <td>P</td>\n",
       "      <td>31.42</td>\n",
       "      <td>0</td>\n",
       "      <td>...</td>\n",
       "      <td>6874.708571</td>\n",
       "      <td>8.000000</td>\n",
       "      <td>90230.55</td>\n",
       "      <td>2871.755251</td>\n",
       "      <td>12890.078571</td>\n",
       "      <td>15.000000</td>\n",
       "      <td>186476.47</td>\n",
       "      <td>5934.960853</td>\n",
       "      <td>26639.495714</td>\n",
       "      <td>31.000000</td>\n",
       "    </tr>\n",
       "    <tr>\n",
       "      <th>2</th>\n",
       "      <td>3</td>\n",
       "      <td>5142131721</td>\n",
       "      <td>2010-01-01</td>\n",
       "      <td>4503082993600</td>\n",
       "      <td>OFFICE DEPOT #191</td>\n",
       "      <td>MD</td>\n",
       "      <td>20706</td>\n",
       "      <td>P</td>\n",
       "      <td>178.49</td>\n",
       "      <td>0</td>\n",
       "      <td>...</td>\n",
       "      <td>793.209843</td>\n",
       "      <td>8.000000</td>\n",
       "      <td>568136.55</td>\n",
       "      <td>3183.016135</td>\n",
       "      <td>1434.688258</td>\n",
       "      <td>14.770570</td>\n",
       "      <td>1174148.87</td>\n",
       "      <td>6578.233346</td>\n",
       "      <td>2877.815858</td>\n",
       "      <td>29.562589</td>\n",
       "    </tr>\n",
       "    <tr>\n",
       "      <th>3</th>\n",
       "      <td>4</td>\n",
       "      <td>5142148452</td>\n",
       "      <td>2010-01-01</td>\n",
       "      <td>5509006296254</td>\n",
       "      <td>FEDEX SHP 12/28/09 AB#</td>\n",
       "      <td>TN</td>\n",
       "      <td>38118</td>\n",
       "      <td>P</td>\n",
       "      <td>3.62</td>\n",
       "      <td>0</td>\n",
       "      <td>...</td>\n",
       "      <td>858.248499</td>\n",
       "      <td>7.094196</td>\n",
       "      <td>696790.50</td>\n",
       "      <td>192483.563536</td>\n",
       "      <td>1451.646875</td>\n",
       "      <td>12.479536</td>\n",
       "      <td>1440033.70</td>\n",
       "      <td>397799.364641</td>\n",
       "      <td>2834.712008</td>\n",
       "      <td>24.368456</td>\n",
       "    </tr>\n",
       "    <tr>\n",
       "      <th>4</th>\n",
       "      <td>5</td>\n",
       "      <td>5142190439</td>\n",
       "      <td>2010-01-01</td>\n",
       "      <td>5509006296254</td>\n",
       "      <td>FEDEX SHP 12/23/09 AB#</td>\n",
       "      <td>TN</td>\n",
       "      <td>38118</td>\n",
       "      <td>P</td>\n",
       "      <td>3.62</td>\n",
       "      <td>0</td>\n",
       "      <td>...</td>\n",
       "      <td>89.920000</td>\n",
       "      <td>8.000000</td>\n",
       "      <td>168.60</td>\n",
       "      <td>46.574586</td>\n",
       "      <td>168.600000</td>\n",
       "      <td>15.000000</td>\n",
       "      <td>348.44</td>\n",
       "      <td>96.254144</td>\n",
       "      <td>348.440000</td>\n",
       "      <td>31.000000</td>\n",
       "    </tr>\n",
       "  </tbody>\n",
       "</table>\n",
       "<p>5 rows × 381 columns</p>\n",
       "</div>"
      ],
      "text/plain": [
       "   Recnum     Cardnum        Date       Merchnum        Merch description  \\\n",
       "0       1  5142190439  2010-01-01  5509006296254   FEDEX SHP 12/23/09 AB#   \n",
       "1       2  5142183973  2010-01-01    61003026333  SERVICE MERCHANDISE #81   \n",
       "2       3  5142131721  2010-01-01  4503082993600        OFFICE DEPOT #191   \n",
       "3       4  5142148452  2010-01-01  5509006296254   FEDEX SHP 12/28/09 AB#   \n",
       "4       5  5142190439  2010-01-01  5509006296254   FEDEX SHP 12/23/09 AB#   \n",
       "\n",
       "  Merch state  Merch zip Transtype  Amount  Fraud  \\\n",
       "0          TN      38118         P    3.62      0   \n",
       "1          MA       1803         P   31.42      0   \n",
       "2          MD      20706         P  178.49      0   \n",
       "3          TN      38118         P    3.62      0   \n",
       "4          TN      38118         P    3.62      0   \n",
       "\n",
       "                  ...                   Total__Merchnum_1Count__Merchnum_7  \\\n",
       "0                 ...                                           143.840000   \n",
       "1                 ...                                          6874.708571   \n",
       "2                 ...                                           793.209843   \n",
       "3                 ...                                           858.248499   \n",
       "4                 ...                                            89.920000   \n",
       "\n",
       "   Total__Merchnum_1Total__Merchnum_7  Total__Merchnum_1Count__Cardnum_14  \\\n",
       "0                            4.417012                              539.40   \n",
       "1                            8.000000                            90230.55   \n",
       "2                            8.000000                           568136.55   \n",
       "3                            7.094196                           696790.50   \n",
       "4                            8.000000                              168.60   \n",
       "\n",
       "   Total__Merchnum_1Total__Cardnum_14  Total__Merchnum_1Count__Merchnum_14  \\\n",
       "0                          149.005525                           269.700000   \n",
       "1                         2871.755251                         12890.078571   \n",
       "2                         3183.016135                          1434.688258   \n",
       "3                       192483.563536                          1451.646875   \n",
       "4                           46.574586                           168.600000   \n",
       "\n",
       "   Total__Merchnum_1Total__Merchnum_14  Total__Merchnum_1Count__Cardnum_30  \\\n",
       "0                             8.281898                             1114.76   \n",
       "1                            15.000000                           186476.47   \n",
       "2                            14.770570                          1174148.87   \n",
       "3                            12.479536                          1440033.70   \n",
       "4                            15.000000                              348.44   \n",
       "\n",
       "   Total__Merchnum_1Total__Cardnum_30  Total__Merchnum_1Count__Merchnum_30  \\\n",
       "0                          307.944751                           557.380000   \n",
       "1                         5934.960853                         26639.495714   \n",
       "2                         6578.233346                          2877.815858   \n",
       "3                       397799.364641                          2834.712008   \n",
       "4                           96.254144                           348.440000   \n",
       "\n",
       "   Total__Merchnum_1Total__Merchnum_30  \n",
       "0                            17.115922  \n",
       "1                            31.000000  \n",
       "2                            29.562589  \n",
       "3                            24.368456  \n",
       "4                            31.000000  \n",
       "\n",
       "[5 rows x 381 columns]"
      ]
     },
     "execution_count": 131,
     "metadata": {},
     "output_type": "execute_result"
    }
   ],
   "source": [
    "## import data\n",
    "variables = pd.read_csv('variables.csv')\n",
    "variables = variables.drop(columns = ['Unnamed: 0'])\n",
    "variables.head()"
   ]
  },
  {
   "cell_type": "code",
   "execution_count": 132,
   "metadata": {},
   "outputs": [],
   "source": [
    "features = ['Median__Cardnum_1',\n",
    " 'Total__Cardnum_1',\n",
    " 'Max__Cardnum_7',\n",
    " 'Average__Cardnum_14',\n",
    " 'Median__Cardnum_30',\n",
    " 'Total__Cardnum_30',\n",
    " 'Total__Cardnum_Merchnum_14',\n",
    " 'Max__Cardnum_Merchnum_30',\n",
    " 'Total__Cardnum_Merchnum_30',\n",
    " 'Max__Cardnum_Merch zip_1',\n",
    " 'Average__Cardnum_Merch zip_14',\n",
    " 'Total__Cardnum_Merch zip_30',\n",
    " 'Actual/Total__Cardnum_Merchnum_1',\n",
    " 'Actual/Median__Merchnum_14',\n",
    " 'Total__Cardnum_1Count__Cardnum_14']"
   ]
  },
  {
   "cell_type": "code",
   "execution_count": 133,
   "metadata": {},
   "outputs": [],
   "source": [
    "features = features +['Fraud','Recnum']"
   ]
  },
  {
   "cell_type": "code",
   "execution_count": 134,
   "metadata": {},
   "outputs": [],
   "source": [
    "v_oot = variables[variables['Date']>'2010-10-31']\n",
    "v_oot = v_oot.loc[:,features]\n",
    "X_oot = v_oot.drop(columns = ['Recnum','Fraud'])\n",
    "y_oot = v_oot['Fraud']"
   ]
  },
  {
   "cell_type": "code",
   "execution_count": 135,
   "metadata": {},
   "outputs": [],
   "source": [
    "v_bfoot = variables[variables['Date']<='2010-10-31']\n",
    "v_bfoot = v_bfoot.loc[:,features]\n",
    "## split training and testing\n",
    "v_test = v_bfoot.sample(frac = 0.3)\n",
    "v_train = v_bfoot.drop(v_test.index)\n",
    "X_train = v_train.drop(columns = ['Recnum','Fraud'])\n",
    "y_train = v_train['Fraud']\n",
    "X_test = v_test.drop(columns = ['Recnum','Fraud'])\n",
    "y_test = v_test['Fraud']"
   ]
  },
  {
   "cell_type": "markdown",
   "metadata": {},
   "source": [
    "## Logistic Regression"
   ]
  },
  {
   "cell_type": "code",
   "execution_count": 7,
   "metadata": {},
   "outputs": [],
   "source": [
    "from sklearn.linear_model import LogisticRegression"
   ]
  },
  {
   "cell_type": "code",
   "execution_count": 14,
   "metadata": {},
   "outputs": [
    {
     "name": "stderr",
     "output_type": "stream",
     "text": [
      "/Users/Luna/anaconda3/lib/python3.7/site-packages/sklearn/linear_model/logistic.py:433: FutureWarning: Default solver will be changed to 'lbfgs' in 0.22. Specify a solver to silence this warning.\n",
      "  FutureWarning)\n",
      "/Users/Luna/anaconda3/lib/python3.7/site-packages/sklearn/svm/base.py:931: ConvergenceWarning: Liblinear failed to converge, increase the number of iterations.\n",
      "  \"the number of iterations.\", ConvergenceWarning)\n"
     ]
    }
   ],
   "source": [
    "lg = LogisticRegression(random_state=0).fit(X_train,y_train)"
   ]
  },
  {
   "cell_type": "code",
   "execution_count": 15,
   "metadata": {},
   "outputs": [
    {
     "data": {
      "text/plain": [
       "0.9923612174416033"
      ]
     },
     "execution_count": 15,
     "metadata": {},
     "output_type": "execute_result"
    }
   ],
   "source": [
    "## training\n",
    "lg.score(X_train, y_train, sample_weight=None)"
   ]
  },
  {
   "cell_type": "code",
   "execution_count": 16,
   "metadata": {},
   "outputs": [
    {
     "data": {
      "text/plain": [
       "0.9932515580961454"
      ]
     },
     "execution_count": 16,
     "metadata": {},
     "output_type": "execute_result"
    }
   ],
   "source": [
    "## testing\n",
    "lg.score(X_test, y_test, sample_weight=None)"
   ]
  },
  {
   "cell_type": "code",
   "execution_count": 17,
   "metadata": {},
   "outputs": [
    {
     "data": {
      "text/plain": [
       "0.9868029291059789"
      ]
     },
     "execution_count": 17,
     "metadata": {},
     "output_type": "execute_result"
    }
   ],
   "source": [
    "## oot\n",
    "lg.score(X_oot, y_oot, sample_weight=None)"
   ]
  },
  {
   "cell_type": "code",
   "execution_count": 18,
   "metadata": {},
   "outputs": [],
   "source": [
    "lg_train_pred = lg.predict(X_train)"
   ]
  },
  {
   "cell_type": "code",
   "execution_count": 26,
   "metadata": {},
   "outputs": [
    {
     "data": {
      "text/plain": [
       "0.9923612174416033"
      ]
     },
     "execution_count": 26,
     "metadata": {},
     "output_type": "execute_result"
    }
   ],
   "source": [
    "(lg_train_pred==y_train).mean()"
   ]
  },
  {
   "cell_type": "code",
   "execution_count": 41,
   "metadata": {},
   "outputs": [],
   "source": [
    "# predictions for training data\n",
    "lg_train_prob = lg.predict_proba(X_train)\n",
    "train_probs = pd.DataFrame(y_train).reset_index(drop=True)\n",
    "train_probs['lg'] = pd.DataFrame(lg_train_prob).iloc[:,1]"
   ]
  },
  {
   "cell_type": "code",
   "execution_count": 63,
   "metadata": {},
   "outputs": [],
   "source": [
    "# predictions for testing data\n",
    "lg_test_prob = lg.predict_proba(X_test)\n",
    "test_probs = pd.DataFrame(y_test).reset_index(drop=True)\n",
    "test_probs['lg'] = pd.DataFrame(lg_test_prob).iloc[:,1]"
   ]
  },
  {
   "cell_type": "code",
   "execution_count": 65,
   "metadata": {},
   "outputs": [],
   "source": [
    "# predictions for oot data\n",
    "lg_oot_prob = lg.predict_proba(X_oot)\n",
    "oot_probs = pd.DataFrame(y_oot).reset_index(drop=True)\n",
    "oot_probs['lg'] = pd.DataFrame(lg_oot_prob).iloc[:,1]"
   ]
  },
  {
   "cell_type": "markdown",
   "metadata": {},
   "source": [
    "## Random Forests"
   ]
  },
  {
   "cell_type": "code",
   "execution_count": 21,
   "metadata": {},
   "outputs": [],
   "source": [
    "from sklearn.ensemble import RandomForestClassifier"
   ]
  },
  {
   "cell_type": "code",
   "execution_count": 22,
   "metadata": {},
   "outputs": [],
   "source": [
    "rfc = RandomForestClassifier(n_estimators=1000, max_depth = 18, random_state=0).fit(X_train,y_train)"
   ]
  },
  {
   "cell_type": "code",
   "execution_count": 23,
   "metadata": {},
   "outputs": [
    {
     "data": {
      "text/plain": [
       "0.9979924803075928"
      ]
     },
     "execution_count": 23,
     "metadata": {},
     "output_type": "execute_result"
    }
   ],
   "source": [
    "## training\n",
    "rfc.score(X_train, y_train, sample_weight=None)"
   ]
  },
  {
   "cell_type": "code",
   "execution_count": 24,
   "metadata": {},
   "outputs": [
    {
     "data": {
      "text/plain": [
       "0.9955539676868723"
      ]
     },
     "execution_count": 24,
     "metadata": {},
     "output_type": "execute_result"
    }
   ],
   "source": [
    "# testing\n",
    "rfc.score(X_test, y_test, sample_weight=None)"
   ]
  },
  {
   "cell_type": "code",
   "execution_count": 25,
   "metadata": {},
   "outputs": [
    {
     "data": {
      "text/plain": [
       "0.9868833990504546"
      ]
     },
     "execution_count": 25,
     "metadata": {},
     "output_type": "execute_result"
    }
   ],
   "source": [
    "## oot\n",
    "rfc.score(X_oot, y_oot, sample_weight=None)"
   ]
  },
  {
   "cell_type": "code",
   "execution_count": 71,
   "metadata": {},
   "outputs": [],
   "source": [
    "rfc_train_prob = rfc.predict_proba(X_train)\n",
    "train_probs['rfc'] = pd.DataFrame(rfc_train_prob).iloc[:,1]\n",
    "rfc_test_prob = rfc.predict_proba(X_test)\n",
    "test_probs['rfc'] = pd.DataFrame(rfc_test_prob).iloc[:,1]\n",
    "rfc_oot_prob = rfc.predict_proba(X_oot)\n",
    "oot_probs['rfc'] = pd.DataFrame(rfc_oot_prob).iloc[:,1]"
   ]
  },
  {
   "cell_type": "markdown",
   "metadata": {},
   "source": [
    "## Neural Networks"
   ]
  },
  {
   "cell_type": "code",
   "execution_count": 136,
   "metadata": {},
   "outputs": [],
   "source": [
    "from sklearn.neural_network import MLPClassifier"
   ]
  },
  {
   "cell_type": "code",
   "execution_count": 161,
   "metadata": {},
   "outputs": [],
   "source": [
    "nn = MLPClassifier(solver='adam', hidden_layer_sizes=(7), random_state=0).fit(X_train,y_train)"
   ]
  },
  {
   "cell_type": "code",
   "execution_count": 147,
   "metadata": {},
   "outputs": [
    {
     "data": {
      "text/plain": [
       "0.9893669507817417"
      ]
     },
     "execution_count": 147,
     "metadata": {},
     "output_type": "execute_result"
    }
   ],
   "source": [
    "## training\n",
    "nn.score(X_train, y_train, sample_weight=None)"
   ]
  },
  {
   "cell_type": "code",
   "execution_count": 148,
   "metadata": {},
   "outputs": [
    {
     "data": {
      "text/plain": [
       "0.9898773371442182"
      ]
     },
     "execution_count": 148,
     "metadata": {},
     "output_type": "execute_result"
    }
   ],
   "source": [
    "## testing\n",
    "nn.score(X_test, y_test, sample_weight=None)"
   ]
  },
  {
   "cell_type": "code",
   "execution_count": 149,
   "metadata": {},
   "outputs": [
    {
     "data": {
      "text/plain": [
       "0.9855958799388428"
      ]
     },
     "execution_count": 149,
     "metadata": {},
     "output_type": "execute_result"
    }
   ],
   "source": [
    "## oot\n",
    "nn.score(X_oot, y_oot, sample_weight=None)"
   ]
  },
  {
   "cell_type": "code",
   "execution_count": 162,
   "metadata": {},
   "outputs": [],
   "source": [
    "train_prob = nn.predict_proba(X_train)\n",
    "train_probs['nn'] = pd.DataFrame(train_prob).iloc[:,1]\n",
    "test_prob = nn.predict_proba(X_test)\n",
    "test_probs['nn'] = pd.DataFrame(test_prob).iloc[:,1]\n",
    "oot_prob = nn.predict_proba(X_oot)\n",
    "oot_probs['nn'] = pd.DataFrame(oot_prob).iloc[:,1]"
   ]
  },
  {
   "cell_type": "code",
   "execution_count": 107,
   "metadata": {},
   "outputs": [],
   "source": [
    "nn_train_pred = nn.predict(X_train)"
   ]
  },
  {
   "cell_type": "code",
   "execution_count": 113,
   "metadata": {},
   "outputs": [],
   "source": [
    "nn_train_prob = nn.predict_proba(X_train)"
   ]
  },
  {
   "cell_type": "code",
   "execution_count": 118,
   "metadata": {},
   "outputs": [
    {
     "data": {
      "text/html": [
       "<div>\n",
       "<style scoped>\n",
       "    .dataframe tbody tr th:only-of-type {\n",
       "        vertical-align: middle;\n",
       "    }\n",
       "\n",
       "    .dataframe tbody tr th {\n",
       "        vertical-align: top;\n",
       "    }\n",
       "\n",
       "    .dataframe thead th {\n",
       "        text-align: right;\n",
       "    }\n",
       "</style>\n",
       "<table border=\"1\" class=\"dataframe\">\n",
       "  <thead>\n",
       "    <tr style=\"text-align: right;\">\n",
       "      <th></th>\n",
       "      <th>0</th>\n",
       "      <th>1</th>\n",
       "    </tr>\n",
       "  </thead>\n",
       "  <tbody>\n",
       "    <tr>\n",
       "      <th>0</th>\n",
       "      <td>0.996923</td>\n",
       "      <td>3.077112e-03</td>\n",
       "    </tr>\n",
       "    <tr>\n",
       "      <th>1</th>\n",
       "      <td>1.000000</td>\n",
       "      <td>1.298984e-15</td>\n",
       "    </tr>\n",
       "    <tr>\n",
       "      <th>2</th>\n",
       "      <td>0.596388</td>\n",
       "      <td>4.036116e-01</td>\n",
       "    </tr>\n",
       "    <tr>\n",
       "      <th>3</th>\n",
       "      <td>0.596445</td>\n",
       "      <td>4.035553e-01</td>\n",
       "    </tr>\n",
       "    <tr>\n",
       "      <th>4</th>\n",
       "      <td>0.999991</td>\n",
       "      <td>8.760081e-06</td>\n",
       "    </tr>\n",
       "    <tr>\n",
       "      <th>5</th>\n",
       "      <td>0.368525</td>\n",
       "      <td>6.314747e-01</td>\n",
       "    </tr>\n",
       "    <tr>\n",
       "      <th>6</th>\n",
       "      <td>0.269907</td>\n",
       "      <td>7.300932e-01</td>\n",
       "    </tr>\n",
       "    <tr>\n",
       "      <th>7</th>\n",
       "      <td>1.000000</td>\n",
       "      <td>3.670860e-12</td>\n",
       "    </tr>\n",
       "    <tr>\n",
       "      <th>8</th>\n",
       "      <td>0.482928</td>\n",
       "      <td>5.170724e-01</td>\n",
       "    </tr>\n",
       "    <tr>\n",
       "      <th>9</th>\n",
       "      <td>0.369449</td>\n",
       "      <td>6.305509e-01</td>\n",
       "    </tr>\n",
       "  </tbody>\n",
       "</table>\n",
       "</div>"
      ],
      "text/plain": [
       "          0             1\n",
       "0  0.996923  3.077112e-03\n",
       "1  1.000000  1.298984e-15\n",
       "2  0.596388  4.036116e-01\n",
       "3  0.596445  4.035553e-01\n",
       "4  0.999991  8.760081e-06\n",
       "5  0.368525  6.314747e-01\n",
       "6  0.269907  7.300932e-01\n",
       "7  1.000000  3.670860e-12\n",
       "8  0.482928  5.170724e-01\n",
       "9  0.369449  6.305509e-01"
      ]
     },
     "execution_count": 118,
     "metadata": {},
     "output_type": "execute_result"
    }
   ],
   "source": [
    "pd.DataFrame(nn_train_prob).head(10)"
   ]
  },
  {
   "cell_type": "code",
   "execution_count": 142,
   "metadata": {},
   "outputs": [
    {
     "data": {
      "text/plain": [
       "2571"
      ]
     },
     "execution_count": 142,
     "metadata": {},
     "output_type": "execute_result"
    }
   ],
   "source": [
    "sum(nn_train_pred)"
   ]
  },
  {
   "cell_type": "code",
   "execution_count": 141,
   "metadata": {},
   "outputs": [
    {
     "data": {
      "text/plain": [
       "0.9471920243624423"
      ]
     },
     "execution_count": 141,
     "metadata": {},
     "output_type": "execute_result"
    }
   ],
   "source": [
    "(nn_train_pred==y_train).mean()"
   ]
  },
  {
   "cell_type": "code",
   "execution_count": 127,
   "metadata": {},
   "outputs": [
    {
     "data": {
      "text/plain": [
       "522"
      ]
     },
     "execution_count": 127,
     "metadata": {},
     "output_type": "execute_result"
    }
   ],
   "source": [
    "sum(rfc_train_pred)"
   ]
  },
  {
   "cell_type": "code",
   "execution_count": 120,
   "metadata": {},
   "outputs": [
    {
     "data": {
      "text/plain": [
       "115"
      ]
     },
     "execution_count": 120,
     "metadata": {},
     "output_type": "execute_result"
    }
   ],
   "source": [
    "(train_probs['nn']>0.5).sum()"
   ]
  },
  {
   "cell_type": "code",
   "execution_count": 100,
   "metadata": {},
   "outputs": [
    {
     "data": {
      "text/plain": [
       "640"
      ]
     },
     "execution_count": 100,
     "metadata": {},
     "output_type": "execute_result"
    }
   ],
   "source": [
    "sum(y_train)"
   ]
  },
  {
   "cell_type": "markdown",
   "metadata": {},
   "source": [
    "## Naive Bayes"
   ]
  },
  {
   "cell_type": "code",
   "execution_count": 88,
   "metadata": {},
   "outputs": [],
   "source": [
    "from sklearn.naive_bayes import GaussianNB"
   ]
  },
  {
   "cell_type": "code",
   "execution_count": 89,
   "metadata": {},
   "outputs": [],
   "source": [
    "gnb = GaussianNB().fit(X_train,y_train)"
   ]
  },
  {
   "cell_type": "code",
   "execution_count": 121,
   "metadata": {},
   "outputs": [
    {
     "data": {
      "text/plain": [
       "0.9721329046087889"
      ]
     },
     "execution_count": 121,
     "metadata": {},
     "output_type": "execute_result"
    }
   ],
   "source": [
    "## training\n",
    "gnb.score(X_train, y_train, sample_weight=None)"
   ]
  },
  {
   "cell_type": "code",
   "execution_count": 122,
   "metadata": {},
   "outputs": [
    {
     "data": {
      "text/plain": [
       "0.9734825929895597"
      ]
     },
     "execution_count": 122,
     "metadata": {},
     "output_type": "execute_result"
    }
   ],
   "source": [
    "## testing\n",
    "gnb.score(X_test, y_test, sample_weight=None)"
   ]
  },
  {
   "cell_type": "code",
   "execution_count": 123,
   "metadata": {},
   "outputs": [
    {
     "data": {
      "text/plain": [
       "0.967087792709423"
      ]
     },
     "execution_count": 123,
     "metadata": {},
     "output_type": "execute_result"
    }
   ],
   "source": [
    "## oot\n",
    "gnb.score(X_oot, y_oot, sample_weight=None)"
   ]
  },
  {
   "cell_type": "code",
   "execution_count": 90,
   "metadata": {},
   "outputs": [],
   "source": [
    "train_prob = gnb.predict_proba(X_train)\n",
    "train_probs['gnb'] = pd.DataFrame(train_prob).iloc[:,1]\n",
    "test_prob = gnb.predict_proba(X_test)\n",
    "test_probs['gnb'] = pd.DataFrame(test_prob).iloc[:,1]\n",
    "oot_prob = gnb.predict_proba(X_oot)\n",
    "oot_probs['gnb'] = pd.DataFrame(oot_prob).iloc[:,1]"
   ]
  },
  {
   "cell_type": "markdown",
   "metadata": {},
   "source": [
    "## FDR Table"
   ]
  },
  {
   "cell_type": "code",
   "execution_count": 93,
   "metadata": {},
   "outputs": [],
   "source": [
    "def getFDR(df, percentage=3):\n",
    "    df.columns = ['Label','Score']\n",
    "    num_rows = round(len(df)*percentage/100)\n",
    "    num_bads = sum(df['Label'])\n",
    "    df = df.sort_values('Score',ascending=False).head(num_rows)\n",
    "    FDR = sum(df.iloc[:,0])/num_bads\n",
    "    return FDR*100"
   ]
  },
  {
   "cell_type": "code",
   "execution_count": 101,
   "metadata": {},
   "outputs": [],
   "source": [
    "FDR_table = pd.DataFrame(columns=['Training','Testing','OOT'],index=['LG','RF','NN','GNB'])"
   ]
  },
  {
   "cell_type": "code",
   "execution_count": 163,
   "metadata": {},
   "outputs": [],
   "source": [
    "FDR_table.loc['LG','Training'] = getFDR(train_probs.loc[:,['Fraud','lg']])\n",
    "FDR_table.loc['RF','Training'] = getFDR(train_probs.loc[:,['Fraud','rfc']])\n",
    "FDR_table.loc['NN','Training'] = getFDR(train_probs.loc[:,['Fraud','nn']])\n",
    "FDR_table.loc['GNB','Training'] = getFDR(train_probs.loc[:,['Fraud','gnb']])\n",
    "FDR_table.loc['LG','Testing'] = getFDR(test_probs.loc[:,['Fraud','lg']])\n",
    "FDR_table.loc['RF','Testing'] = getFDR(test_probs.loc[:,['Fraud','rfc']])\n",
    "FDR_table.loc['NN','Testing'] = getFDR(test_probs.loc[:,['Fraud','nn']])\n",
    "FDR_table.loc['GNB','Testing'] = getFDR(test_probs.loc[:,['Fraud','gnb']])\n",
    "FDR_table.loc['LG','OOT'] = getFDR(oot_probs.loc[:,['Fraud','lg']])\n",
    "FDR_table.loc['RF','OOT'] = getFDR(oot_probs.loc[:,['Fraud','rfc']])\n",
    "FDR_table.loc['NN','OOT'] = getFDR(oot_probs.loc[:,['Fraud','nn']])\n",
    "FDR_table.loc['GNB','OOT'] = getFDR(oot_probs.loc[:,['Fraud','gnb']])"
   ]
  },
  {
   "cell_type": "code",
   "execution_count": 164,
   "metadata": {},
   "outputs": [
    {
     "data": {
      "text/html": [
       "<div>\n",
       "<style scoped>\n",
       "    .dataframe tbody tr th:only-of-type {\n",
       "        vertical-align: middle;\n",
       "    }\n",
       "\n",
       "    .dataframe tbody tr th {\n",
       "        vertical-align: top;\n",
       "    }\n",
       "\n",
       "    .dataframe thead th {\n",
       "        text-align: right;\n",
       "    }\n",
       "</style>\n",
       "<table border=\"1\" class=\"dataframe\">\n",
       "  <thead>\n",
       "    <tr style=\"text-align: right;\">\n",
       "      <th></th>\n",
       "      <th>Training</th>\n",
       "      <th>Testing</th>\n",
       "      <th>OOT</th>\n",
       "    </tr>\n",
       "  </thead>\n",
       "  <tbody>\n",
       "    <tr>\n",
       "      <th>LG</th>\n",
       "      <td>55</td>\n",
       "      <td>54.5833</td>\n",
       "      <td>39.1061</td>\n",
       "    </tr>\n",
       "    <tr>\n",
       "      <th>RF</th>\n",
       "      <td>100</td>\n",
       "      <td>86.6667</td>\n",
       "      <td>46.3687</td>\n",
       "    </tr>\n",
       "    <tr>\n",
       "      <th>NN</th>\n",
       "      <td>4.53125</td>\n",
       "      <td>2.91667</td>\n",
       "      <td>53.0726</td>\n",
       "    </tr>\n",
       "    <tr>\n",
       "      <th>GNB</th>\n",
       "      <td>58.4375</td>\n",
       "      <td>57.0833</td>\n",
       "      <td>32.4022</td>\n",
       "    </tr>\n",
       "  </tbody>\n",
       "</table>\n",
       "</div>"
      ],
      "text/plain": [
       "    Training  Testing      OOT\n",
       "LG        55  54.5833  39.1061\n",
       "RF       100  86.6667  46.3687\n",
       "NN   4.53125  2.91667  53.0726\n",
       "GNB  58.4375  57.0833  32.4022"
      ]
     },
     "execution_count": 164,
     "metadata": {},
     "output_type": "execute_result"
    }
   ],
   "source": [
    "FDR_table"
   ]
  },
  {
   "cell_type": "markdown",
   "metadata": {},
   "source": [
    "## Final Model Summary Tables"
   ]
  },
  {
   "cell_type": "code",
   "execution_count": 246,
   "metadata": {},
   "outputs": [],
   "source": [
    "rfc_train_prob = train_probs.loc[:,['Fraud','rfc']].sort_values('rfc',ascending=False)\n",
    "rfc_train_prob['bin'] = 100-pd.qcut(rfc_train_prob.loc[:,'rfc'],100,labels=False)\n",
    "temp = rfc_train_prob[rfc_train_prob['bin']<=20]\n",
    "train_BS = temp.groupby('bin').agg({'bin':'count','Fraud':'sum'})\n",
    "train_BS.columns = ['#Records','#Bads']\n",
    "train_BS['#Goods'] = train_BS['#Records'] - train_BS['#Bads']\n",
    "train_BS['%Bads'] = train_BS['#Bads']*100/train_BS['#Records']\n",
    "train_BS['%Goods'] = train_BS['#Goods']*100/train_BS['#Records']\n",
    "for bin in range(1,21):\n",
    "    train_BS.loc[bin,'Total #Records'] = sum(train_BS.loc[range(1,bin+1),'#Records'])\n",
    "    train_BS.loc[bin,'Culmulative #Bads'] = sum(train_BS.loc[range(1,bin+1),'#Bads'])\n",
    "    train_BS.loc[bin,'Culmulative #Goods'] = sum(train_BS.loc[range(1,bin+1),'#Goods'])\n",
    "train_total_Bad = sum(rfc_train_prob['Fraud'])\n",
    "train_total_Good = len(rfc_train_prob)-train_total_Bad\n",
    "train_BS['Culmulative %Bads'] = train_BS['Culmulative #Bads']*100/train_total_Bad\n",
    "train_BS['Culmulative %Goods'] = train_BS['Culmulative #Goods']*100/train_total_Good\n",
    "train_BS['KS'] = train_BS['Culmulative %Bads']-train_BS['Culmulative %Goods']\n",
    "train_BS['FPR'] = train_BS['Culmulative #Goods']/train_BS['Culmulative #Bads']"
   ]
  },
  {
   "cell_type": "code",
   "execution_count": 237,
   "metadata": {},
   "outputs": [
    {
     "name": "stdout",
     "output_type": "stream",
     "text": [
      "58779\n",
      "640\n",
      "58139\n"
     ]
    }
   ],
   "source": [
    "print(len(rfc_train_prob))\n",
    "print(train_total_Bad)\n",
    "print(train_total_Good)"
   ]
  },
  {
   "cell_type": "code",
   "execution_count": 247,
   "metadata": {},
   "outputs": [
    {
     "data": {
      "text/html": [
       "<div>\n",
       "<style scoped>\n",
       "    .dataframe tbody tr th:only-of-type {\n",
       "        vertical-align: middle;\n",
       "    }\n",
       "\n",
       "    .dataframe tbody tr th {\n",
       "        vertical-align: top;\n",
       "    }\n",
       "\n",
       "    .dataframe thead th {\n",
       "        text-align: right;\n",
       "    }\n",
       "</style>\n",
       "<table border=\"1\" class=\"dataframe\">\n",
       "  <thead>\n",
       "    <tr style=\"text-align: right;\">\n",
       "      <th></th>\n",
       "      <th>bin</th>\n",
       "      <th>#Records</th>\n",
       "      <th>#Bads</th>\n",
       "      <th>#Goods</th>\n",
       "      <th>%Bads</th>\n",
       "      <th>%Goods</th>\n",
       "      <th>Total #Records</th>\n",
       "      <th>Culmulative #Bads</th>\n",
       "      <th>Culmulative #Goods</th>\n",
       "      <th>Culmulative %Bads</th>\n",
       "      <th>Culmulative %Goods</th>\n",
       "      <th>KS</th>\n",
       "      <th>FPR</th>\n",
       "    </tr>\n",
       "  </thead>\n",
       "  <tbody>\n",
       "    <tr>\n",
       "      <th>0</th>\n",
       "      <td>1</td>\n",
       "      <td>588</td>\n",
       "      <td>588</td>\n",
       "      <td>0</td>\n",
       "      <td>100.000000</td>\n",
       "      <td>0.000000</td>\n",
       "      <td>588.0</td>\n",
       "      <td>588.0</td>\n",
       "      <td>0.0</td>\n",
       "      <td>91.875</td>\n",
       "      <td>0.000000</td>\n",
       "      <td>91.875000</td>\n",
       "      <td>0.000000</td>\n",
       "    </tr>\n",
       "    <tr>\n",
       "      <th>1</th>\n",
       "      <td>2</td>\n",
       "      <td>588</td>\n",
       "      <td>52</td>\n",
       "      <td>536</td>\n",
       "      <td>8.843537</td>\n",
       "      <td>91.156463</td>\n",
       "      <td>1176.0</td>\n",
       "      <td>640.0</td>\n",
       "      <td>536.0</td>\n",
       "      <td>100.000</td>\n",
       "      <td>0.921928</td>\n",
       "      <td>99.078072</td>\n",
       "      <td>0.837500</td>\n",
       "    </tr>\n",
       "    <tr>\n",
       "      <th>2</th>\n",
       "      <td>3</td>\n",
       "      <td>588</td>\n",
       "      <td>0</td>\n",
       "      <td>588</td>\n",
       "      <td>0.000000</td>\n",
       "      <td>100.000000</td>\n",
       "      <td>1764.0</td>\n",
       "      <td>640.0</td>\n",
       "      <td>1124.0</td>\n",
       "      <td>100.000</td>\n",
       "      <td>1.933298</td>\n",
       "      <td>98.066702</td>\n",
       "      <td>1.756250</td>\n",
       "    </tr>\n",
       "    <tr>\n",
       "      <th>3</th>\n",
       "      <td>4</td>\n",
       "      <td>588</td>\n",
       "      <td>0</td>\n",
       "      <td>588</td>\n",
       "      <td>0.000000</td>\n",
       "      <td>100.000000</td>\n",
       "      <td>2352.0</td>\n",
       "      <td>640.0</td>\n",
       "      <td>1712.0</td>\n",
       "      <td>100.000</td>\n",
       "      <td>2.944667</td>\n",
       "      <td>97.055333</td>\n",
       "      <td>2.675000</td>\n",
       "    </tr>\n",
       "    <tr>\n",
       "      <th>4</th>\n",
       "      <td>5</td>\n",
       "      <td>587</td>\n",
       "      <td>0</td>\n",
       "      <td>587</td>\n",
       "      <td>0.000000</td>\n",
       "      <td>100.000000</td>\n",
       "      <td>2939.0</td>\n",
       "      <td>640.0</td>\n",
       "      <td>2299.0</td>\n",
       "      <td>100.000</td>\n",
       "      <td>3.954316</td>\n",
       "      <td>96.045684</td>\n",
       "      <td>3.592188</td>\n",
       "    </tr>\n",
       "    <tr>\n",
       "      <th>5</th>\n",
       "      <td>6</td>\n",
       "      <td>588</td>\n",
       "      <td>0</td>\n",
       "      <td>588</td>\n",
       "      <td>0.000000</td>\n",
       "      <td>100.000000</td>\n",
       "      <td>3527.0</td>\n",
       "      <td>640.0</td>\n",
       "      <td>2887.0</td>\n",
       "      <td>100.000</td>\n",
       "      <td>4.965686</td>\n",
       "      <td>95.034314</td>\n",
       "      <td>4.510937</td>\n",
       "    </tr>\n",
       "    <tr>\n",
       "      <th>6</th>\n",
       "      <td>7</td>\n",
       "      <td>588</td>\n",
       "      <td>0</td>\n",
       "      <td>588</td>\n",
       "      <td>0.000000</td>\n",
       "      <td>100.000000</td>\n",
       "      <td>4115.0</td>\n",
       "      <td>640.0</td>\n",
       "      <td>3475.0</td>\n",
       "      <td>100.000</td>\n",
       "      <td>5.977055</td>\n",
       "      <td>94.022945</td>\n",
       "      <td>5.429688</td>\n",
       "    </tr>\n",
       "    <tr>\n",
       "      <th>7</th>\n",
       "      <td>8</td>\n",
       "      <td>588</td>\n",
       "      <td>0</td>\n",
       "      <td>588</td>\n",
       "      <td>0.000000</td>\n",
       "      <td>100.000000</td>\n",
       "      <td>4703.0</td>\n",
       "      <td>640.0</td>\n",
       "      <td>4063.0</td>\n",
       "      <td>100.000</td>\n",
       "      <td>6.988424</td>\n",
       "      <td>93.011576</td>\n",
       "      <td>6.348438</td>\n",
       "    </tr>\n",
       "    <tr>\n",
       "      <th>8</th>\n",
       "      <td>9</td>\n",
       "      <td>588</td>\n",
       "      <td>0</td>\n",
       "      <td>588</td>\n",
       "      <td>0.000000</td>\n",
       "      <td>100.000000</td>\n",
       "      <td>5291.0</td>\n",
       "      <td>640.0</td>\n",
       "      <td>4651.0</td>\n",
       "      <td>100.000</td>\n",
       "      <td>7.999794</td>\n",
       "      <td>92.000206</td>\n",
       "      <td>7.267188</td>\n",
       "    </tr>\n",
       "    <tr>\n",
       "      <th>9</th>\n",
       "      <td>10</td>\n",
       "      <td>587</td>\n",
       "      <td>0</td>\n",
       "      <td>587</td>\n",
       "      <td>0.000000</td>\n",
       "      <td>100.000000</td>\n",
       "      <td>5878.0</td>\n",
       "      <td>640.0</td>\n",
       "      <td>5238.0</td>\n",
       "      <td>100.000</td>\n",
       "      <td>9.009443</td>\n",
       "      <td>90.990557</td>\n",
       "      <td>8.184375</td>\n",
       "    </tr>\n",
       "    <tr>\n",
       "      <th>10</th>\n",
       "      <td>11</td>\n",
       "      <td>588</td>\n",
       "      <td>0</td>\n",
       "      <td>588</td>\n",
       "      <td>0.000000</td>\n",
       "      <td>100.000000</td>\n",
       "      <td>6466.0</td>\n",
       "      <td>640.0</td>\n",
       "      <td>5826.0</td>\n",
       "      <td>100.000</td>\n",
       "      <td>10.020812</td>\n",
       "      <td>89.979188</td>\n",
       "      <td>9.103125</td>\n",
       "    </tr>\n",
       "    <tr>\n",
       "      <th>11</th>\n",
       "      <td>12</td>\n",
       "      <td>588</td>\n",
       "      <td>0</td>\n",
       "      <td>588</td>\n",
       "      <td>0.000000</td>\n",
       "      <td>100.000000</td>\n",
       "      <td>7054.0</td>\n",
       "      <td>640.0</td>\n",
       "      <td>6414.0</td>\n",
       "      <td>100.000</td>\n",
       "      <td>11.032181</td>\n",
       "      <td>88.967819</td>\n",
       "      <td>10.021875</td>\n",
       "    </tr>\n",
       "    <tr>\n",
       "      <th>12</th>\n",
       "      <td>13</td>\n",
       "      <td>588</td>\n",
       "      <td>0</td>\n",
       "      <td>588</td>\n",
       "      <td>0.000000</td>\n",
       "      <td>100.000000</td>\n",
       "      <td>7642.0</td>\n",
       "      <td>640.0</td>\n",
       "      <td>7002.0</td>\n",
       "      <td>100.000</td>\n",
       "      <td>12.043551</td>\n",
       "      <td>87.956449</td>\n",
       "      <td>10.940625</td>\n",
       "    </tr>\n",
       "    <tr>\n",
       "      <th>13</th>\n",
       "      <td>14</td>\n",
       "      <td>587</td>\n",
       "      <td>0</td>\n",
       "      <td>587</td>\n",
       "      <td>0.000000</td>\n",
       "      <td>100.000000</td>\n",
       "      <td>8229.0</td>\n",
       "      <td>640.0</td>\n",
       "      <td>7589.0</td>\n",
       "      <td>100.000</td>\n",
       "      <td>13.053200</td>\n",
       "      <td>86.946800</td>\n",
       "      <td>11.857812</td>\n",
       "    </tr>\n",
       "    <tr>\n",
       "      <th>14</th>\n",
       "      <td>15</td>\n",
       "      <td>588</td>\n",
       "      <td>0</td>\n",
       "      <td>588</td>\n",
       "      <td>0.000000</td>\n",
       "      <td>100.000000</td>\n",
       "      <td>8817.0</td>\n",
       "      <td>640.0</td>\n",
       "      <td>8177.0</td>\n",
       "      <td>100.000</td>\n",
       "      <td>14.064569</td>\n",
       "      <td>85.935431</td>\n",
       "      <td>12.776563</td>\n",
       "    </tr>\n",
       "    <tr>\n",
       "      <th>15</th>\n",
       "      <td>16</td>\n",
       "      <td>588</td>\n",
       "      <td>0</td>\n",
       "      <td>588</td>\n",
       "      <td>0.000000</td>\n",
       "      <td>100.000000</td>\n",
       "      <td>9405.0</td>\n",
       "      <td>640.0</td>\n",
       "      <td>8765.0</td>\n",
       "      <td>100.000</td>\n",
       "      <td>15.075939</td>\n",
       "      <td>84.924061</td>\n",
       "      <td>13.695312</td>\n",
       "    </tr>\n",
       "    <tr>\n",
       "      <th>16</th>\n",
       "      <td>17</td>\n",
       "      <td>588</td>\n",
       "      <td>0</td>\n",
       "      <td>588</td>\n",
       "      <td>0.000000</td>\n",
       "      <td>100.000000</td>\n",
       "      <td>9993.0</td>\n",
       "      <td>640.0</td>\n",
       "      <td>9353.0</td>\n",
       "      <td>100.000</td>\n",
       "      <td>16.087308</td>\n",
       "      <td>83.912692</td>\n",
       "      <td>14.614062</td>\n",
       "    </tr>\n",
       "    <tr>\n",
       "      <th>17</th>\n",
       "      <td>18</td>\n",
       "      <td>588</td>\n",
       "      <td>0</td>\n",
       "      <td>588</td>\n",
       "      <td>0.000000</td>\n",
       "      <td>100.000000</td>\n",
       "      <td>10581.0</td>\n",
       "      <td>640.0</td>\n",
       "      <td>9941.0</td>\n",
       "      <td>100.000</td>\n",
       "      <td>17.098677</td>\n",
       "      <td>82.901323</td>\n",
       "      <td>15.532813</td>\n",
       "    </tr>\n",
       "    <tr>\n",
       "      <th>18</th>\n",
       "      <td>19</td>\n",
       "      <td>587</td>\n",
       "      <td>0</td>\n",
       "      <td>587</td>\n",
       "      <td>0.000000</td>\n",
       "      <td>100.000000</td>\n",
       "      <td>11168.0</td>\n",
       "      <td>640.0</td>\n",
       "      <td>10528.0</td>\n",
       "      <td>100.000</td>\n",
       "      <td>18.108327</td>\n",
       "      <td>81.891673</td>\n",
       "      <td>16.450000</td>\n",
       "    </tr>\n",
       "    <tr>\n",
       "      <th>19</th>\n",
       "      <td>20</td>\n",
       "      <td>588</td>\n",
       "      <td>0</td>\n",
       "      <td>588</td>\n",
       "      <td>0.000000</td>\n",
       "      <td>100.000000</td>\n",
       "      <td>11756.0</td>\n",
       "      <td>640.0</td>\n",
       "      <td>11116.0</td>\n",
       "      <td>100.000</td>\n",
       "      <td>19.119696</td>\n",
       "      <td>80.880304</td>\n",
       "      <td>17.368750</td>\n",
       "    </tr>\n",
       "  </tbody>\n",
       "</table>\n",
       "</div>"
      ],
      "text/plain": [
       "    bin  #Records  #Bads  #Goods       %Bads      %Goods  Total #Records  \\\n",
       "0     1       588    588       0  100.000000    0.000000           588.0   \n",
       "1     2       588     52     536    8.843537   91.156463          1176.0   \n",
       "2     3       588      0     588    0.000000  100.000000          1764.0   \n",
       "3     4       588      0     588    0.000000  100.000000          2352.0   \n",
       "4     5       587      0     587    0.000000  100.000000          2939.0   \n",
       "5     6       588      0     588    0.000000  100.000000          3527.0   \n",
       "6     7       588      0     588    0.000000  100.000000          4115.0   \n",
       "7     8       588      0     588    0.000000  100.000000          4703.0   \n",
       "8     9       588      0     588    0.000000  100.000000          5291.0   \n",
       "9    10       587      0     587    0.000000  100.000000          5878.0   \n",
       "10   11       588      0     588    0.000000  100.000000          6466.0   \n",
       "11   12       588      0     588    0.000000  100.000000          7054.0   \n",
       "12   13       588      0     588    0.000000  100.000000          7642.0   \n",
       "13   14       587      0     587    0.000000  100.000000          8229.0   \n",
       "14   15       588      0     588    0.000000  100.000000          8817.0   \n",
       "15   16       588      0     588    0.000000  100.000000          9405.0   \n",
       "16   17       588      0     588    0.000000  100.000000          9993.0   \n",
       "17   18       588      0     588    0.000000  100.000000         10581.0   \n",
       "18   19       587      0     587    0.000000  100.000000         11168.0   \n",
       "19   20       588      0     588    0.000000  100.000000         11756.0   \n",
       "\n",
       "    Culmulative #Bads  Culmulative #Goods  Culmulative %Bads  \\\n",
       "0               588.0                 0.0             91.875   \n",
       "1               640.0               536.0            100.000   \n",
       "2               640.0              1124.0            100.000   \n",
       "3               640.0              1712.0            100.000   \n",
       "4               640.0              2299.0            100.000   \n",
       "5               640.0              2887.0            100.000   \n",
       "6               640.0              3475.0            100.000   \n",
       "7               640.0              4063.0            100.000   \n",
       "8               640.0              4651.0            100.000   \n",
       "9               640.0              5238.0            100.000   \n",
       "10              640.0              5826.0            100.000   \n",
       "11              640.0              6414.0            100.000   \n",
       "12              640.0              7002.0            100.000   \n",
       "13              640.0              7589.0            100.000   \n",
       "14              640.0              8177.0            100.000   \n",
       "15              640.0              8765.0            100.000   \n",
       "16              640.0              9353.0            100.000   \n",
       "17              640.0              9941.0            100.000   \n",
       "18              640.0             10528.0            100.000   \n",
       "19              640.0             11116.0            100.000   \n",
       "\n",
       "    Culmulative %Goods         KS        FPR  \n",
       "0             0.000000  91.875000   0.000000  \n",
       "1             0.921928  99.078072   0.837500  \n",
       "2             1.933298  98.066702   1.756250  \n",
       "3             2.944667  97.055333   2.675000  \n",
       "4             3.954316  96.045684   3.592188  \n",
       "5             4.965686  95.034314   4.510937  \n",
       "6             5.977055  94.022945   5.429688  \n",
       "7             6.988424  93.011576   6.348438  \n",
       "8             7.999794  92.000206   7.267188  \n",
       "9             9.009443  90.990557   8.184375  \n",
       "10           10.020812  89.979188   9.103125  \n",
       "11           11.032181  88.967819  10.021875  \n",
       "12           12.043551  87.956449  10.940625  \n",
       "13           13.053200  86.946800  11.857812  \n",
       "14           14.064569  85.935431  12.776563  \n",
       "15           15.075939  84.924061  13.695312  \n",
       "16           16.087308  83.912692  14.614062  \n",
       "17           17.098677  82.901323  15.532813  \n",
       "18           18.108327  81.891673  16.450000  \n",
       "19           19.119696  80.880304  17.368750  "
      ]
     },
     "execution_count": 247,
     "metadata": {},
     "output_type": "execute_result"
    }
   ],
   "source": [
    "train_BS.reset_index()"
   ]
  },
  {
   "cell_type": "code",
   "execution_count": 230,
   "metadata": {},
   "outputs": [],
   "source": [
    "rfc_test_prob = test_probs.loc[:,['Fraud','rfc']].sort_values('rfc',ascending=False)\n",
    "rfc_test_prob['bin'] = 100-pd.qcut(rfc_test_prob.loc[:,'rfc'],100,labels=False)\n",
    "temp = rfc_test_prob[rfc_test_prob['bin']<=20]\n",
    "test_BS = temp.groupby('bin').agg({'bin':'count','Fraud':'sum'})\n",
    "test_BS.columns = ['#Records','#Bads']\n",
    "test_BS['#Goods'] = test_BS['#Records'] - test_BS['#Bads']\n",
    "test_BS['%Bads'] = test_BS['#Bads']*100/test_BS['#Records']\n",
    "test_BS['%Goods'] = test_BS['#Goods']*100/test_BS['#Records']\n",
    "for bin in range(1,21):\n",
    "    test_BS.loc[bin,'Total #Records'] = sum(test_BS.loc[range(1,bin+1),'#Records'])\n",
    "    test_BS.loc[bin,'Culmulative #Bads'] = sum(test_BS.loc[range(1,bin+1),'#Bads'])\n",
    "    test_BS.loc[bin,'Culmulative #Goods'] = sum(test_BS.loc[range(1,bin+1),'#Goods'])\n",
    "test_total_Bad = sum(rfc_test_prob['Fraud'])\n",
    "test_total_Good = len(rfc_test_prob)-test_total_Bad\n",
    "test_BS['Culmulative %Bads'] = test_BS['Culmulative #Bads']*100/test_total_Bad\n",
    "test_BS['Culmulative %Goods'] = test_BS['Culmulative #Goods']*100/test_total_Good\n",
    "test_BS['KS'] = test_BS['Culmulative %Bads']-test_BS['Culmulative %Goods']\n",
    "test_BS['FPR'] = test_BS['Culmulative #Goods']/test_BS['Culmulative #Bads']"
   ]
  },
  {
   "cell_type": "code",
   "execution_count": 240,
   "metadata": {},
   "outputs": [
    {
     "name": "stdout",
     "output_type": "stream",
     "text": [
      "25191\n",
      "240\n",
      "24951\n"
     ]
    }
   ],
   "source": [
    "print(len(rfc_test_prob))\n",
    "print(test_total_Bad)\n",
    "print(test_total_Good)"
   ]
  },
  {
   "cell_type": "code",
   "execution_count": 239,
   "metadata": {},
   "outputs": [
    {
     "data": {
      "text/html": [
       "<div>\n",
       "<style scoped>\n",
       "    .dataframe tbody tr th:only-of-type {\n",
       "        vertical-align: middle;\n",
       "    }\n",
       "\n",
       "    .dataframe tbody tr th {\n",
       "        vertical-align: top;\n",
       "    }\n",
       "\n",
       "    .dataframe thead th {\n",
       "        text-align: right;\n",
       "    }\n",
       "</style>\n",
       "<table border=\"1\" class=\"dataframe\">\n",
       "  <thead>\n",
       "    <tr style=\"text-align: right;\">\n",
       "      <th></th>\n",
       "      <th>#Records</th>\n",
       "      <th>#Bads</th>\n",
       "      <th>#Goods</th>\n",
       "      <th>%Bads</th>\n",
       "      <th>%Goods</th>\n",
       "      <th>Total #Records</th>\n",
       "      <th>Culmulative #Bads</th>\n",
       "      <th>Culmulative #Goods</th>\n",
       "      <th>Culmulative %Bads</th>\n",
       "      <th>Culmulative %Goods</th>\n",
       "      <th>KS</th>\n",
       "      <th>FPR</th>\n",
       "    </tr>\n",
       "    <tr>\n",
       "      <th>bin</th>\n",
       "      <th></th>\n",
       "      <th></th>\n",
       "      <th></th>\n",
       "      <th></th>\n",
       "      <th></th>\n",
       "      <th></th>\n",
       "      <th></th>\n",
       "      <th></th>\n",
       "      <th></th>\n",
       "      <th></th>\n",
       "      <th></th>\n",
       "      <th></th>\n",
       "    </tr>\n",
       "  </thead>\n",
       "  <tbody>\n",
       "    <tr>\n",
       "      <th>1</th>\n",
       "      <td>252</td>\n",
       "      <td>166</td>\n",
       "      <td>86</td>\n",
       "      <td>65.873016</td>\n",
       "      <td>34.126984</td>\n",
       "      <td>252.0</td>\n",
       "      <td>166.0</td>\n",
       "      <td>86.0</td>\n",
       "      <td>69.166667</td>\n",
       "      <td>0.344676</td>\n",
       "      <td>68.821991</td>\n",
       "      <td>0.518072</td>\n",
       "    </tr>\n",
       "    <tr>\n",
       "      <th>2</th>\n",
       "      <td>252</td>\n",
       "      <td>33</td>\n",
       "      <td>219</td>\n",
       "      <td>13.095238</td>\n",
       "      <td>86.904762</td>\n",
       "      <td>504.0</td>\n",
       "      <td>199.0</td>\n",
       "      <td>305.0</td>\n",
       "      <td>82.916667</td>\n",
       "      <td>1.222396</td>\n",
       "      <td>81.694271</td>\n",
       "      <td>1.532663</td>\n",
       "    </tr>\n",
       "    <tr>\n",
       "      <th>3</th>\n",
       "      <td>252</td>\n",
       "      <td>9</td>\n",
       "      <td>243</td>\n",
       "      <td>3.571429</td>\n",
       "      <td>96.428571</td>\n",
       "      <td>756.0</td>\n",
       "      <td>208.0</td>\n",
       "      <td>548.0</td>\n",
       "      <td>86.666667</td>\n",
       "      <td>2.196305</td>\n",
       "      <td>84.470362</td>\n",
       "      <td>2.634615</td>\n",
       "    </tr>\n",
       "    <tr>\n",
       "      <th>4</th>\n",
       "      <td>252</td>\n",
       "      <td>7</td>\n",
       "      <td>245</td>\n",
       "      <td>2.777778</td>\n",
       "      <td>97.222222</td>\n",
       "      <td>1008.0</td>\n",
       "      <td>215.0</td>\n",
       "      <td>793.0</td>\n",
       "      <td>89.583333</td>\n",
       "      <td>3.178229</td>\n",
       "      <td>86.405104</td>\n",
       "      <td>3.688372</td>\n",
       "    </tr>\n",
       "    <tr>\n",
       "      <th>5</th>\n",
       "      <td>252</td>\n",
       "      <td>1</td>\n",
       "      <td>251</td>\n",
       "      <td>0.396825</td>\n",
       "      <td>99.603175</td>\n",
       "      <td>1260.0</td>\n",
       "      <td>216.0</td>\n",
       "      <td>1044.0</td>\n",
       "      <td>90.000000</td>\n",
       "      <td>4.184201</td>\n",
       "      <td>85.815799</td>\n",
       "      <td>4.833333</td>\n",
       "    </tr>\n",
       "    <tr>\n",
       "      <th>6</th>\n",
       "      <td>252</td>\n",
       "      <td>4</td>\n",
       "      <td>248</td>\n",
       "      <td>1.587302</td>\n",
       "      <td>98.412698</td>\n",
       "      <td>1512.0</td>\n",
       "      <td>220.0</td>\n",
       "      <td>1292.0</td>\n",
       "      <td>91.666667</td>\n",
       "      <td>5.178149</td>\n",
       "      <td>86.488517</td>\n",
       "      <td>5.872727</td>\n",
       "    </tr>\n",
       "    <tr>\n",
       "      <th>7</th>\n",
       "      <td>252</td>\n",
       "      <td>3</td>\n",
       "      <td>249</td>\n",
       "      <td>1.190476</td>\n",
       "      <td>98.809524</td>\n",
       "      <td>1764.0</td>\n",
       "      <td>223.0</td>\n",
       "      <td>1541.0</td>\n",
       "      <td>92.916667</td>\n",
       "      <td>6.176105</td>\n",
       "      <td>86.740562</td>\n",
       "      <td>6.910314</td>\n",
       "    </tr>\n",
       "    <tr>\n",
       "      <th>8</th>\n",
       "      <td>252</td>\n",
       "      <td>1</td>\n",
       "      <td>251</td>\n",
       "      <td>0.396825</td>\n",
       "      <td>99.603175</td>\n",
       "      <td>2016.0</td>\n",
       "      <td>224.0</td>\n",
       "      <td>1792.0</td>\n",
       "      <td>93.333333</td>\n",
       "      <td>7.182077</td>\n",
       "      <td>86.151256</td>\n",
       "      <td>8.000000</td>\n",
       "    </tr>\n",
       "    <tr>\n",
       "      <th>9</th>\n",
       "      <td>252</td>\n",
       "      <td>0</td>\n",
       "      <td>252</td>\n",
       "      <td>0.000000</td>\n",
       "      <td>100.000000</td>\n",
       "      <td>2268.0</td>\n",
       "      <td>224.0</td>\n",
       "      <td>2044.0</td>\n",
       "      <td>93.333333</td>\n",
       "      <td>8.192056</td>\n",
       "      <td>85.141277</td>\n",
       "      <td>9.125000</td>\n",
       "    </tr>\n",
       "    <tr>\n",
       "      <th>10</th>\n",
       "      <td>251</td>\n",
       "      <td>0</td>\n",
       "      <td>251</td>\n",
       "      <td>0.000000</td>\n",
       "      <td>100.000000</td>\n",
       "      <td>2519.0</td>\n",
       "      <td>224.0</td>\n",
       "      <td>2295.0</td>\n",
       "      <td>93.333333</td>\n",
       "      <td>9.198028</td>\n",
       "      <td>84.135305</td>\n",
       "      <td>10.245536</td>\n",
       "    </tr>\n",
       "    <tr>\n",
       "      <th>11</th>\n",
       "      <td>252</td>\n",
       "      <td>0</td>\n",
       "      <td>252</td>\n",
       "      <td>0.000000</td>\n",
       "      <td>100.000000</td>\n",
       "      <td>2771.0</td>\n",
       "      <td>224.0</td>\n",
       "      <td>2547.0</td>\n",
       "      <td>93.333333</td>\n",
       "      <td>10.208008</td>\n",
       "      <td>83.125326</td>\n",
       "      <td>11.370536</td>\n",
       "    </tr>\n",
       "    <tr>\n",
       "      <th>12</th>\n",
       "      <td>252</td>\n",
       "      <td>2</td>\n",
       "      <td>250</td>\n",
       "      <td>0.793651</td>\n",
       "      <td>99.206349</td>\n",
       "      <td>3023.0</td>\n",
       "      <td>226.0</td>\n",
       "      <td>2797.0</td>\n",
       "      <td>94.166667</td>\n",
       "      <td>11.209972</td>\n",
       "      <td>82.956695</td>\n",
       "      <td>12.376106</td>\n",
       "    </tr>\n",
       "    <tr>\n",
       "      <th>13</th>\n",
       "      <td>252</td>\n",
       "      <td>2</td>\n",
       "      <td>250</td>\n",
       "      <td>0.793651</td>\n",
       "      <td>99.206349</td>\n",
       "      <td>3275.0</td>\n",
       "      <td>228.0</td>\n",
       "      <td>3047.0</td>\n",
       "      <td>95.000000</td>\n",
       "      <td>12.211935</td>\n",
       "      <td>82.788065</td>\n",
       "      <td>13.364035</td>\n",
       "    </tr>\n",
       "    <tr>\n",
       "      <th>14</th>\n",
       "      <td>252</td>\n",
       "      <td>1</td>\n",
       "      <td>251</td>\n",
       "      <td>0.396825</td>\n",
       "      <td>99.603175</td>\n",
       "      <td>3527.0</td>\n",
       "      <td>229.0</td>\n",
       "      <td>3298.0</td>\n",
       "      <td>95.416667</td>\n",
       "      <td>13.217907</td>\n",
       "      <td>82.198760</td>\n",
       "      <td>14.401747</td>\n",
       "    </tr>\n",
       "    <tr>\n",
       "      <th>15</th>\n",
       "      <td>252</td>\n",
       "      <td>0</td>\n",
       "      <td>252</td>\n",
       "      <td>0.000000</td>\n",
       "      <td>100.000000</td>\n",
       "      <td>3779.0</td>\n",
       "      <td>229.0</td>\n",
       "      <td>3550.0</td>\n",
       "      <td>95.416667</td>\n",
       "      <td>14.227887</td>\n",
       "      <td>81.188780</td>\n",
       "      <td>15.502183</td>\n",
       "    </tr>\n",
       "    <tr>\n",
       "      <th>16</th>\n",
       "      <td>252</td>\n",
       "      <td>1</td>\n",
       "      <td>251</td>\n",
       "      <td>0.396825</td>\n",
       "      <td>99.603175</td>\n",
       "      <td>4031.0</td>\n",
       "      <td>230.0</td>\n",
       "      <td>3801.0</td>\n",
       "      <td>95.833333</td>\n",
       "      <td>15.233858</td>\n",
       "      <td>80.599475</td>\n",
       "      <td>16.526087</td>\n",
       "    </tr>\n",
       "    <tr>\n",
       "      <th>17</th>\n",
       "      <td>252</td>\n",
       "      <td>0</td>\n",
       "      <td>252</td>\n",
       "      <td>0.000000</td>\n",
       "      <td>100.000000</td>\n",
       "      <td>4283.0</td>\n",
       "      <td>230.0</td>\n",
       "      <td>4053.0</td>\n",
       "      <td>95.833333</td>\n",
       "      <td>16.243838</td>\n",
       "      <td>79.589495</td>\n",
       "      <td>17.621739</td>\n",
       "    </tr>\n",
       "    <tr>\n",
       "      <th>18</th>\n",
       "      <td>252</td>\n",
       "      <td>0</td>\n",
       "      <td>252</td>\n",
       "      <td>0.000000</td>\n",
       "      <td>100.000000</td>\n",
       "      <td>4535.0</td>\n",
       "      <td>230.0</td>\n",
       "      <td>4305.0</td>\n",
       "      <td>95.833333</td>\n",
       "      <td>17.253817</td>\n",
       "      <td>78.579516</td>\n",
       "      <td>18.717391</td>\n",
       "    </tr>\n",
       "    <tr>\n",
       "      <th>19</th>\n",
       "      <td>252</td>\n",
       "      <td>1</td>\n",
       "      <td>251</td>\n",
       "      <td>0.396825</td>\n",
       "      <td>99.603175</td>\n",
       "      <td>4787.0</td>\n",
       "      <td>231.0</td>\n",
       "      <td>4556.0</td>\n",
       "      <td>96.250000</td>\n",
       "      <td>18.259789</td>\n",
       "      <td>77.990211</td>\n",
       "      <td>19.722944</td>\n",
       "    </tr>\n",
       "    <tr>\n",
       "      <th>20</th>\n",
       "      <td>251</td>\n",
       "      <td>1</td>\n",
       "      <td>250</td>\n",
       "      <td>0.398406</td>\n",
       "      <td>99.601594</td>\n",
       "      <td>5038.0</td>\n",
       "      <td>232.0</td>\n",
       "      <td>4806.0</td>\n",
       "      <td>96.666667</td>\n",
       "      <td>19.261753</td>\n",
       "      <td>77.404914</td>\n",
       "      <td>20.715517</td>\n",
       "    </tr>\n",
       "  </tbody>\n",
       "</table>\n",
       "</div>"
      ],
      "text/plain": [
       "     #Records  #Bads  #Goods      %Bads      %Goods  Total #Records  \\\n",
       "bin                                                                   \n",
       "1         252    166      86  65.873016   34.126984           252.0   \n",
       "2         252     33     219  13.095238   86.904762           504.0   \n",
       "3         252      9     243   3.571429   96.428571           756.0   \n",
       "4         252      7     245   2.777778   97.222222          1008.0   \n",
       "5         252      1     251   0.396825   99.603175          1260.0   \n",
       "6         252      4     248   1.587302   98.412698          1512.0   \n",
       "7         252      3     249   1.190476   98.809524          1764.0   \n",
       "8         252      1     251   0.396825   99.603175          2016.0   \n",
       "9         252      0     252   0.000000  100.000000          2268.0   \n",
       "10        251      0     251   0.000000  100.000000          2519.0   \n",
       "11        252      0     252   0.000000  100.000000          2771.0   \n",
       "12        252      2     250   0.793651   99.206349          3023.0   \n",
       "13        252      2     250   0.793651   99.206349          3275.0   \n",
       "14        252      1     251   0.396825   99.603175          3527.0   \n",
       "15        252      0     252   0.000000  100.000000          3779.0   \n",
       "16        252      1     251   0.396825   99.603175          4031.0   \n",
       "17        252      0     252   0.000000  100.000000          4283.0   \n",
       "18        252      0     252   0.000000  100.000000          4535.0   \n",
       "19        252      1     251   0.396825   99.603175          4787.0   \n",
       "20        251      1     250   0.398406   99.601594          5038.0   \n",
       "\n",
       "     Culmulative #Bads  Culmulative #Goods  Culmulative %Bads  \\\n",
       "bin                                                             \n",
       "1                166.0                86.0          69.166667   \n",
       "2                199.0               305.0          82.916667   \n",
       "3                208.0               548.0          86.666667   \n",
       "4                215.0               793.0          89.583333   \n",
       "5                216.0              1044.0          90.000000   \n",
       "6                220.0              1292.0          91.666667   \n",
       "7                223.0              1541.0          92.916667   \n",
       "8                224.0              1792.0          93.333333   \n",
       "9                224.0              2044.0          93.333333   \n",
       "10               224.0              2295.0          93.333333   \n",
       "11               224.0              2547.0          93.333333   \n",
       "12               226.0              2797.0          94.166667   \n",
       "13               228.0              3047.0          95.000000   \n",
       "14               229.0              3298.0          95.416667   \n",
       "15               229.0              3550.0          95.416667   \n",
       "16               230.0              3801.0          95.833333   \n",
       "17               230.0              4053.0          95.833333   \n",
       "18               230.0              4305.0          95.833333   \n",
       "19               231.0              4556.0          96.250000   \n",
       "20               232.0              4806.0          96.666667   \n",
       "\n",
       "     Culmulative %Goods         KS        FPR  \n",
       "bin                                            \n",
       "1              0.344676  68.821991   0.518072  \n",
       "2              1.222396  81.694271   1.532663  \n",
       "3              2.196305  84.470362   2.634615  \n",
       "4              3.178229  86.405104   3.688372  \n",
       "5              4.184201  85.815799   4.833333  \n",
       "6              5.178149  86.488517   5.872727  \n",
       "7              6.176105  86.740562   6.910314  \n",
       "8              7.182077  86.151256   8.000000  \n",
       "9              8.192056  85.141277   9.125000  \n",
       "10             9.198028  84.135305  10.245536  \n",
       "11            10.208008  83.125326  11.370536  \n",
       "12            11.209972  82.956695  12.376106  \n",
       "13            12.211935  82.788065  13.364035  \n",
       "14            13.217907  82.198760  14.401747  \n",
       "15            14.227887  81.188780  15.502183  \n",
       "16            15.233858  80.599475  16.526087  \n",
       "17            16.243838  79.589495  17.621739  \n",
       "18            17.253817  78.579516  18.717391  \n",
       "19            18.259789  77.990211  19.722944  \n",
       "20            19.261753  77.404914  20.715517  "
      ]
     },
     "execution_count": 239,
     "metadata": {},
     "output_type": "execute_result"
    }
   ],
   "source": [
    "test_BS"
   ]
  },
  {
   "cell_type": "code",
   "execution_count": 248,
   "metadata": {},
   "outputs": [],
   "source": [
    "rfc_oot_prob = oot_probs.loc[:,['Fraud','rfc']].sort_values('rfc',ascending=False)\n",
    "rfc_oot_prob['bin'] = 100-pd.qcut(rfc_oot_prob.loc[:,'rfc'],100,labels=False)\n",
    "temp = rfc_oot_prob[rfc_oot_prob['bin']<=20]\n",
    "oot_BS = temp.groupby('bin').agg({'bin':'count','Fraud':'sum'})\n",
    "oot_BS.columns = ['#Records','#Bads']\n",
    "oot_BS['#Goods'] = oot_BS['#Records'] - oot_BS['#Bads']\n",
    "oot_BS['%Bads'] = oot_BS['#Bads']*100/oot_BS['#Records']\n",
    "oot_BS['%Goods'] = oot_BS['#Goods']*100/oot_BS['#Records']\n",
    "for bin in range(1,21):\n",
    "    oot_BS.loc[bin,'Total #Records'] = sum(oot_BS.loc[range(1,bin+1),'#Records'])\n",
    "    oot_BS.loc[bin,'Culmulative #Bads'] = sum(oot_BS.loc[range(1,bin+1),'#Bads'])\n",
    "    oot_BS.loc[bin,'Culmulative #Goods'] = sum(oot_BS.loc[range(1,bin+1),'#Goods'])\n",
    "oot_total_Bad = sum(rfc_oot_prob['Fraud'])\n",
    "oot_total_Good = len(rfc_oot_prob)-oot_total_Bad\n",
    "oot_BS['Culmulative %Bads'] = oot_BS['Culmulative #Bads']*100/oot_total_Bad\n",
    "oot_BS['Culmulative %Goods'] = oot_BS['Culmulative #Goods']*100/oot_total_Good\n",
    "oot_BS['KS'] = oot_BS['Culmulative %Bads']-oot_BS['Culmulative %Goods']\n",
    "oot_BS['FPR'] = oot_BS['Culmulative #Goods']/oot_BS['Culmulative #Bads']"
   ]
  },
  {
   "cell_type": "code",
   "execution_count": 244,
   "metadata": {},
   "outputs": [
    {
     "name": "stdout",
     "output_type": "stream",
     "text": [
      "12427\n",
      "179\n",
      "12248\n"
     ]
    }
   ],
   "source": [
    "print(len(rfc_oot_prob))\n",
    "print(oot_total_Bad)\n",
    "print(oot_total_Good)"
   ]
  },
  {
   "cell_type": "code",
   "execution_count": 249,
   "metadata": {},
   "outputs": [
    {
     "data": {
      "text/html": [
       "<div>\n",
       "<style scoped>\n",
       "    .dataframe tbody tr th:only-of-type {\n",
       "        vertical-align: middle;\n",
       "    }\n",
       "\n",
       "    .dataframe tbody tr th {\n",
       "        vertical-align: top;\n",
       "    }\n",
       "\n",
       "    .dataframe thead th {\n",
       "        text-align: right;\n",
       "    }\n",
       "</style>\n",
       "<table border=\"1\" class=\"dataframe\">\n",
       "  <thead>\n",
       "    <tr style=\"text-align: right;\">\n",
       "      <th></th>\n",
       "      <th>#Records</th>\n",
       "      <th>#Bads</th>\n",
       "      <th>#Goods</th>\n",
       "      <th>%Bads</th>\n",
       "      <th>%Goods</th>\n",
       "      <th>Total #Records</th>\n",
       "      <th>Culmulative #Bads</th>\n",
       "      <th>Culmulative #Goods</th>\n",
       "      <th>Culmulative %Bads</th>\n",
       "      <th>Culmulative %Goods</th>\n",
       "      <th>KS</th>\n",
       "      <th>FPR</th>\n",
       "    </tr>\n",
       "    <tr>\n",
       "      <th>bin</th>\n",
       "      <th></th>\n",
       "      <th></th>\n",
       "      <th></th>\n",
       "      <th></th>\n",
       "      <th></th>\n",
       "      <th></th>\n",
       "      <th></th>\n",
       "      <th></th>\n",
       "      <th></th>\n",
       "      <th></th>\n",
       "      <th></th>\n",
       "      <th></th>\n",
       "    </tr>\n",
       "  </thead>\n",
       "  <tbody>\n",
       "    <tr>\n",
       "      <th>1</th>\n",
       "      <td>125</td>\n",
       "      <td>52</td>\n",
       "      <td>73</td>\n",
       "      <td>41.600000</td>\n",
       "      <td>58.400000</td>\n",
       "      <td>125.0</td>\n",
       "      <td>52.0</td>\n",
       "      <td>73.0</td>\n",
       "      <td>29.050279</td>\n",
       "      <td>0.596016</td>\n",
       "      <td>28.454264</td>\n",
       "      <td>1.403846</td>\n",
       "    </tr>\n",
       "    <tr>\n",
       "      <th>2</th>\n",
       "      <td>124</td>\n",
       "      <td>17</td>\n",
       "      <td>107</td>\n",
       "      <td>13.709677</td>\n",
       "      <td>86.290323</td>\n",
       "      <td>249.0</td>\n",
       "      <td>69.0</td>\n",
       "      <td>180.0</td>\n",
       "      <td>38.547486</td>\n",
       "      <td>1.469628</td>\n",
       "      <td>37.077858</td>\n",
       "      <td>2.608696</td>\n",
       "    </tr>\n",
       "    <tr>\n",
       "      <th>3</th>\n",
       "      <td>124</td>\n",
       "      <td>14</td>\n",
       "      <td>110</td>\n",
       "      <td>11.290323</td>\n",
       "      <td>88.709677</td>\n",
       "      <td>373.0</td>\n",
       "      <td>83.0</td>\n",
       "      <td>290.0</td>\n",
       "      <td>46.368715</td>\n",
       "      <td>2.367734</td>\n",
       "      <td>44.000982</td>\n",
       "      <td>3.493976</td>\n",
       "    </tr>\n",
       "    <tr>\n",
       "      <th>4</th>\n",
       "      <td>125</td>\n",
       "      <td>20</td>\n",
       "      <td>105</td>\n",
       "      <td>16.000000</td>\n",
       "      <td>84.000000</td>\n",
       "      <td>498.0</td>\n",
       "      <td>103.0</td>\n",
       "      <td>395.0</td>\n",
       "      <td>57.541899</td>\n",
       "      <td>3.225016</td>\n",
       "      <td>54.316883</td>\n",
       "      <td>3.834951</td>\n",
       "    </tr>\n",
       "    <tr>\n",
       "      <th>5</th>\n",
       "      <td>124</td>\n",
       "      <td>6</td>\n",
       "      <td>118</td>\n",
       "      <td>4.838710</td>\n",
       "      <td>95.161290</td>\n",
       "      <td>622.0</td>\n",
       "      <td>109.0</td>\n",
       "      <td>513.0</td>\n",
       "      <td>60.893855</td>\n",
       "      <td>4.188439</td>\n",
       "      <td>56.705416</td>\n",
       "      <td>4.706422</td>\n",
       "    </tr>\n",
       "    <tr>\n",
       "      <th>6</th>\n",
       "      <td>124</td>\n",
       "      <td>3</td>\n",
       "      <td>121</td>\n",
       "      <td>2.419355</td>\n",
       "      <td>97.580645</td>\n",
       "      <td>746.0</td>\n",
       "      <td>112.0</td>\n",
       "      <td>634.0</td>\n",
       "      <td>62.569832</td>\n",
       "      <td>5.176355</td>\n",
       "      <td>57.393477</td>\n",
       "      <td>5.660714</td>\n",
       "    </tr>\n",
       "    <tr>\n",
       "      <th>7</th>\n",
       "      <td>124</td>\n",
       "      <td>2</td>\n",
       "      <td>122</td>\n",
       "      <td>1.612903</td>\n",
       "      <td>98.387097</td>\n",
       "      <td>870.0</td>\n",
       "      <td>114.0</td>\n",
       "      <td>756.0</td>\n",
       "      <td>63.687151</td>\n",
       "      <td>6.172436</td>\n",
       "      <td>57.514715</td>\n",
       "      <td>6.631579</td>\n",
       "    </tr>\n",
       "    <tr>\n",
       "      <th>8</th>\n",
       "      <td>125</td>\n",
       "      <td>6</td>\n",
       "      <td>119</td>\n",
       "      <td>4.800000</td>\n",
       "      <td>95.200000</td>\n",
       "      <td>995.0</td>\n",
       "      <td>120.0</td>\n",
       "      <td>875.0</td>\n",
       "      <td>67.039106</td>\n",
       "      <td>7.144024</td>\n",
       "      <td>59.895083</td>\n",
       "      <td>7.291667</td>\n",
       "    </tr>\n",
       "    <tr>\n",
       "      <th>9</th>\n",
       "      <td>124</td>\n",
       "      <td>3</td>\n",
       "      <td>121</td>\n",
       "      <td>2.419355</td>\n",
       "      <td>97.580645</td>\n",
       "      <td>1119.0</td>\n",
       "      <td>123.0</td>\n",
       "      <td>996.0</td>\n",
       "      <td>68.715084</td>\n",
       "      <td>8.131940</td>\n",
       "      <td>60.583144</td>\n",
       "      <td>8.097561</td>\n",
       "    </tr>\n",
       "    <tr>\n",
       "      <th>10</th>\n",
       "      <td>124</td>\n",
       "      <td>0</td>\n",
       "      <td>124</td>\n",
       "      <td>0.000000</td>\n",
       "      <td>100.000000</td>\n",
       "      <td>1243.0</td>\n",
       "      <td>123.0</td>\n",
       "      <td>1120.0</td>\n",
       "      <td>68.715084</td>\n",
       "      <td>9.144350</td>\n",
       "      <td>59.570734</td>\n",
       "      <td>9.105691</td>\n",
       "    </tr>\n",
       "    <tr>\n",
       "      <th>11</th>\n",
       "      <td>124</td>\n",
       "      <td>4</td>\n",
       "      <td>120</td>\n",
       "      <td>3.225806</td>\n",
       "      <td>96.774194</td>\n",
       "      <td>1367.0</td>\n",
       "      <td>127.0</td>\n",
       "      <td>1240.0</td>\n",
       "      <td>70.949721</td>\n",
       "      <td>10.124102</td>\n",
       "      <td>60.825619</td>\n",
       "      <td>9.763780</td>\n",
       "    </tr>\n",
       "    <tr>\n",
       "      <th>12</th>\n",
       "      <td>125</td>\n",
       "      <td>3</td>\n",
       "      <td>122</td>\n",
       "      <td>2.400000</td>\n",
       "      <td>97.600000</td>\n",
       "      <td>1492.0</td>\n",
       "      <td>130.0</td>\n",
       "      <td>1362.0</td>\n",
       "      <td>72.625698</td>\n",
       "      <td>11.120183</td>\n",
       "      <td>61.505515</td>\n",
       "      <td>10.476923</td>\n",
       "    </tr>\n",
       "    <tr>\n",
       "      <th>13</th>\n",
       "      <td>124</td>\n",
       "      <td>3</td>\n",
       "      <td>121</td>\n",
       "      <td>2.419355</td>\n",
       "      <td>97.580645</td>\n",
       "      <td>1616.0</td>\n",
       "      <td>133.0</td>\n",
       "      <td>1483.0</td>\n",
       "      <td>74.301676</td>\n",
       "      <td>12.108099</td>\n",
       "      <td>62.193577</td>\n",
       "      <td>11.150376</td>\n",
       "    </tr>\n",
       "    <tr>\n",
       "      <th>14</th>\n",
       "      <td>124</td>\n",
       "      <td>2</td>\n",
       "      <td>122</td>\n",
       "      <td>1.612903</td>\n",
       "      <td>98.387097</td>\n",
       "      <td>1740.0</td>\n",
       "      <td>135.0</td>\n",
       "      <td>1605.0</td>\n",
       "      <td>75.418994</td>\n",
       "      <td>13.104180</td>\n",
       "      <td>62.314814</td>\n",
       "      <td>11.888889</td>\n",
       "    </tr>\n",
       "    <tr>\n",
       "      <th>15</th>\n",
       "      <td>124</td>\n",
       "      <td>2</td>\n",
       "      <td>122</td>\n",
       "      <td>1.612903</td>\n",
       "      <td>98.387097</td>\n",
       "      <td>1864.0</td>\n",
       "      <td>137.0</td>\n",
       "      <td>1727.0</td>\n",
       "      <td>76.536313</td>\n",
       "      <td>14.100261</td>\n",
       "      <td>62.436052</td>\n",
       "      <td>12.605839</td>\n",
       "    </tr>\n",
       "    <tr>\n",
       "      <th>16</th>\n",
       "      <td>125</td>\n",
       "      <td>3</td>\n",
       "      <td>122</td>\n",
       "      <td>2.400000</td>\n",
       "      <td>97.600000</td>\n",
       "      <td>1989.0</td>\n",
       "      <td>140.0</td>\n",
       "      <td>1849.0</td>\n",
       "      <td>78.212291</td>\n",
       "      <td>15.096342</td>\n",
       "      <td>63.115948</td>\n",
       "      <td>13.207143</td>\n",
       "    </tr>\n",
       "    <tr>\n",
       "      <th>17</th>\n",
       "      <td>124</td>\n",
       "      <td>1</td>\n",
       "      <td>123</td>\n",
       "      <td>0.806452</td>\n",
       "      <td>99.193548</td>\n",
       "      <td>2113.0</td>\n",
       "      <td>141.0</td>\n",
       "      <td>1972.0</td>\n",
       "      <td>78.770950</td>\n",
       "      <td>16.100588</td>\n",
       "      <td>62.670362</td>\n",
       "      <td>13.985816</td>\n",
       "    </tr>\n",
       "    <tr>\n",
       "      <th>18</th>\n",
       "      <td>124</td>\n",
       "      <td>2</td>\n",
       "      <td>122</td>\n",
       "      <td>1.612903</td>\n",
       "      <td>98.387097</td>\n",
       "      <td>2237.0</td>\n",
       "      <td>143.0</td>\n",
       "      <td>2094.0</td>\n",
       "      <td>79.888268</td>\n",
       "      <td>17.096669</td>\n",
       "      <td>62.791599</td>\n",
       "      <td>14.643357</td>\n",
       "    </tr>\n",
       "    <tr>\n",
       "      <th>19</th>\n",
       "      <td>124</td>\n",
       "      <td>1</td>\n",
       "      <td>123</td>\n",
       "      <td>0.806452</td>\n",
       "      <td>99.193548</td>\n",
       "      <td>2361.0</td>\n",
       "      <td>144.0</td>\n",
       "      <td>2217.0</td>\n",
       "      <td>80.446927</td>\n",
       "      <td>18.100914</td>\n",
       "      <td>62.346013</td>\n",
       "      <td>15.395833</td>\n",
       "    </tr>\n",
       "    <tr>\n",
       "      <th>20</th>\n",
       "      <td>125</td>\n",
       "      <td>2</td>\n",
       "      <td>123</td>\n",
       "      <td>1.600000</td>\n",
       "      <td>98.400000</td>\n",
       "      <td>2486.0</td>\n",
       "      <td>146.0</td>\n",
       "      <td>2340.0</td>\n",
       "      <td>81.564246</td>\n",
       "      <td>19.105160</td>\n",
       "      <td>62.459086</td>\n",
       "      <td>16.027397</td>\n",
       "    </tr>\n",
       "  </tbody>\n",
       "</table>\n",
       "</div>"
      ],
      "text/plain": [
       "     #Records  #Bads  #Goods      %Bads      %Goods  Total #Records  \\\n",
       "bin                                                                   \n",
       "1         125     52      73  41.600000   58.400000           125.0   \n",
       "2         124     17     107  13.709677   86.290323           249.0   \n",
       "3         124     14     110  11.290323   88.709677           373.0   \n",
       "4         125     20     105  16.000000   84.000000           498.0   \n",
       "5         124      6     118   4.838710   95.161290           622.0   \n",
       "6         124      3     121   2.419355   97.580645           746.0   \n",
       "7         124      2     122   1.612903   98.387097           870.0   \n",
       "8         125      6     119   4.800000   95.200000           995.0   \n",
       "9         124      3     121   2.419355   97.580645          1119.0   \n",
       "10        124      0     124   0.000000  100.000000          1243.0   \n",
       "11        124      4     120   3.225806   96.774194          1367.0   \n",
       "12        125      3     122   2.400000   97.600000          1492.0   \n",
       "13        124      3     121   2.419355   97.580645          1616.0   \n",
       "14        124      2     122   1.612903   98.387097          1740.0   \n",
       "15        124      2     122   1.612903   98.387097          1864.0   \n",
       "16        125      3     122   2.400000   97.600000          1989.0   \n",
       "17        124      1     123   0.806452   99.193548          2113.0   \n",
       "18        124      2     122   1.612903   98.387097          2237.0   \n",
       "19        124      1     123   0.806452   99.193548          2361.0   \n",
       "20        125      2     123   1.600000   98.400000          2486.0   \n",
       "\n",
       "     Culmulative #Bads  Culmulative #Goods  Culmulative %Bads  \\\n",
       "bin                                                             \n",
       "1                 52.0                73.0          29.050279   \n",
       "2                 69.0               180.0          38.547486   \n",
       "3                 83.0               290.0          46.368715   \n",
       "4                103.0               395.0          57.541899   \n",
       "5                109.0               513.0          60.893855   \n",
       "6                112.0               634.0          62.569832   \n",
       "7                114.0               756.0          63.687151   \n",
       "8                120.0               875.0          67.039106   \n",
       "9                123.0               996.0          68.715084   \n",
       "10               123.0              1120.0          68.715084   \n",
       "11               127.0              1240.0          70.949721   \n",
       "12               130.0              1362.0          72.625698   \n",
       "13               133.0              1483.0          74.301676   \n",
       "14               135.0              1605.0          75.418994   \n",
       "15               137.0              1727.0          76.536313   \n",
       "16               140.0              1849.0          78.212291   \n",
       "17               141.0              1972.0          78.770950   \n",
       "18               143.0              2094.0          79.888268   \n",
       "19               144.0              2217.0          80.446927   \n",
       "20               146.0              2340.0          81.564246   \n",
       "\n",
       "     Culmulative %Goods         KS        FPR  \n",
       "bin                                            \n",
       "1              0.596016  28.454264   1.403846  \n",
       "2              1.469628  37.077858   2.608696  \n",
       "3              2.367734  44.000982   3.493976  \n",
       "4              3.225016  54.316883   3.834951  \n",
       "5              4.188439  56.705416   4.706422  \n",
       "6              5.176355  57.393477   5.660714  \n",
       "7              6.172436  57.514715   6.631579  \n",
       "8              7.144024  59.895083   7.291667  \n",
       "9              8.131940  60.583144   8.097561  \n",
       "10             9.144350  59.570734   9.105691  \n",
       "11            10.124102  60.825619   9.763780  \n",
       "12            11.120183  61.505515  10.476923  \n",
       "13            12.108099  62.193577  11.150376  \n",
       "14            13.104180  62.314814  11.888889  \n",
       "15            14.100261  62.436052  12.605839  \n",
       "16            15.096342  63.115948  13.207143  \n",
       "17            16.100588  62.670362  13.985816  \n",
       "18            17.096669  62.791599  14.643357  \n",
       "19            18.100914  62.346013  15.395833  \n",
       "20            19.105160  62.459086  16.027397  "
      ]
     },
     "execution_count": 249,
     "metadata": {},
     "output_type": "execute_result"
    }
   ],
   "source": [
    "oot_BS"
   ]
  },
  {
   "cell_type": "markdown",
   "metadata": {},
   "source": [
    "## Fraud Savings Plot"
   ]
  },
  {
   "cell_type": "markdown",
   "metadata": {},
   "source": [
    "Estimate expected savings given that preventing one fraudulent transaction can save the bank $2000 while rejecting a non-fraudulent transaction costs the bank $50. Select the criteria for rejecting transaction based on cost-benefit analysis.  "
   ]
  },
  {
   "cell_type": "code",
   "execution_count": 266,
   "metadata": {},
   "outputs": [],
   "source": [
    "import matplotlib.pyplot as plt"
   ]
  },
  {
   "cell_type": "code",
   "execution_count": 296,
   "metadata": {},
   "outputs": [],
   "source": [
    "rfc_oot_prob = oot_probs.loc[:,['Fraud','rfc']]\n",
    "plot_data = []\n",
    "for cutoff in np.linspace(0,1,101):\n",
    "    temp = rfc_oot_prob[rfc_oot_prob['rfc']>cutoff]\n",
    "    gain = 2000*sum(temp['Fraud'])\n",
    "    loss = 50*(len(temp)-sum(temp['Fraud']))\n",
    "    saving = gain-loss\n",
    "    plot_data.append([cutoff,gain,loss,saving])\n",
    "plot_data = pd.DataFrame(plot_data, columns=['cutoff','Fraud Savings','Lost Sales','Overall Savings'])\n",
    "plot_data = plot_data.set_index('cutoff')"
   ]
  },
  {
   "cell_type": "code",
   "execution_count": 297,
   "metadata": {},
   "outputs": [
    {
     "data": {
      "text/plain": [
       "<matplotlib.axes._subplots.AxesSubplot at 0x1340edb38>"
      ]
     },
     "execution_count": 297,
     "metadata": {},
     "output_type": "execute_result"
    },
    {
     "data": {
      "image/png": "[encoded data removed]",
      "text/plain": [
       "<Figure size 432x288 with 1 Axes>"
      ]
     },
     "metadata": {
      "needs_background": "light"
     },
     "output_type": "display_data"
    }
   ],
   "source": [
    "plot_data.plot()"
   ]
  },
  {
   "cell_type": "code",
   "execution_count": 316,
   "metadata": {},
   "outputs": [],
   "source": [
    "rfc_oot_prob = oot_probs.loc[:,['Fraud','rfc']].sort_values('rfc',ascending=False)\n",
    "rfc_oot_prob['bin'] = 100-pd.qcut(rfc_oot_prob.loc[:,'rfc'],100,labels=False)\n",
    "plot_data = []\n",
    "for cutoff in range(1,51):\n",
    "    temp = rfc_oot_prob[rfc_oot_prob['bin']<=cutoff]\n",
    "    temp = temp[temp['rfc']>0.5]\n",
    "    #temp['pred'] = rfc_oot_prob['rfc']>0.5\n",
    "    #gain = 2000*sum((temp['Fraud']==1)&(temp['pred']==1))\n",
    "    #loss = 50*sum((temp['Fraud']==0)&(temp['pred']==1))\n",
    "    gain = 2000*sum(temp['Fraud'])\n",
    "    loss = 50*sum(temp['Fraud']==0)\n",
    "    saving = gain-loss\n",
    "    plot_data.append([cutoff,gain,loss,saving])\n",
    "plot_data = pd.DataFrame(plot_data, columns=['cutoff','Fraud Savings','Lost Sales','Overall Savings'])\n",
    "plot_data = plot_data.set_index('cutoff')"
   ]
  },
  {
   "cell_type": "code",
   "execution_count": 317,
   "metadata": {},
   "outputs": [
    {
     "data": {
      "text/html": [
       "<div>\n",
       "<style scoped>\n",
       "    .dataframe tbody tr th:only-of-type {\n",
       "        vertical-align: middle;\n",
       "    }\n",
       "\n",
       "    .dataframe tbody tr th {\n",
       "        vertical-align: top;\n",
       "    }\n",
       "\n",
       "    .dataframe thead th {\n",
       "        text-align: right;\n",
       "    }\n",
       "</style>\n",
       "<table border=\"1\" class=\"dataframe\">\n",
       "  <thead>\n",
       "    <tr style=\"text-align: right;\">\n",
       "      <th></th>\n",
       "      <th>Fraud Savings</th>\n",
       "      <th>Lost Sales</th>\n",
       "      <th>Overall Savings</th>\n",
       "    </tr>\n",
       "    <tr>\n",
       "      <th>cutoff</th>\n",
       "      <th></th>\n",
       "      <th></th>\n",
       "      <th></th>\n",
       "    </tr>\n",
       "  </thead>\n",
       "  <tbody>\n",
       "    <tr>\n",
       "      <th>1</th>\n",
       "      <td>42000</td>\n",
       "      <td>250</td>\n",
       "      <td>41750</td>\n",
       "    </tr>\n",
       "    <tr>\n",
       "      <th>2</th>\n",
       "      <td>42000</td>\n",
       "      <td>250</td>\n",
       "      <td>41750</td>\n",
       "    </tr>\n",
       "    <tr>\n",
       "      <th>3</th>\n",
       "      <td>42000</td>\n",
       "      <td>250</td>\n",
       "      <td>41750</td>\n",
       "    </tr>\n",
       "    <tr>\n",
       "      <th>4</th>\n",
       "      <td>42000</td>\n",
       "      <td>250</td>\n",
       "      <td>41750</td>\n",
       "    </tr>\n",
       "    <tr>\n",
       "      <th>5</th>\n",
       "      <td>42000</td>\n",
       "      <td>250</td>\n",
       "      <td>41750</td>\n",
       "    </tr>\n",
       "  </tbody>\n",
       "</table>\n",
       "</div>"
      ],
      "text/plain": [
       "        Fraud Savings  Lost Sales  Overall Savings\n",
       "cutoff                                            \n",
       "1               42000         250            41750\n",
       "2               42000         250            41750\n",
       "3               42000         250            41750\n",
       "4               42000         250            41750\n",
       "5               42000         250            41750"
      ]
     },
     "execution_count": 317,
     "metadata": {},
     "output_type": "execute_result"
    }
   ],
   "source": [
    "plot_data.head()"
   ]
  },
  {
   "cell_type": "code",
   "execution_count": 318,
   "metadata": {},
   "outputs": [
    {
     "data": {
      "text/plain": [
       "<matplotlib.axes._subplots.AxesSubplot at 0x1341b1898>"
      ]
     },
     "execution_count": 318,
     "metadata": {},
     "output_type": "execute_result"
    },
    {
     "data": {
      "image/png": "[encoded data removed]",
      "text/plain": [
       "<Figure size 432x288 with 1 Axes>"
      ]
     },
     "metadata": {
      "needs_background": "light"
     },
     "output_type": "display_data"
    }
   ],
   "source": [
    "plot_data.plot()"
   ]
  },
  {
   "cell_type": "code",
   "execution_count": 302,
   "metadata": {},
   "outputs": [],
   "source": [
    "rfc_oot_pred = rfc.predict(X_oot)"
   ]
  },
  {
   "cell_type": "code",
   "execution_count": 307,
   "metadata": {},
   "outputs": [],
   "source": [
    "rfc_oot_prob = pd.DataFrame(rfc.predict_proba(X_oot)).iloc[:,1]"
   ]
  },
  {
   "cell_type": "code",
   "execution_count": 312,
   "metadata": {},
   "outputs": [],
   "source": [
    "rfc_temp = pd.DataFrame({'pred':rfc_oot_pred,'prob':rfc_oot_prob,'Fraud':y_oot.reset_index(drop=True)})"
   ]
  },
  {
   "cell_type": "code",
   "execution_count": 315,
   "metadata": {},
   "outputs": [],
   "source": [
    "rfc_temp = rfc_temp.sort_values('prob',ascending=False)\n",
    "rfc_temp['bin'] = 100-pd.qcut(rfc_temp['prob'],100,labels=False)"
   ]
  },
  {
   "cell_type": "code",
   "execution_count": 328,
   "metadata": {},
   "outputs": [
    {
     "data": {
      "text/plain": [
       "179"
      ]
     },
     "execution_count": 328,
     "metadata": {},
     "output_type": "execute_result"
    }
   ],
   "source": [
    "(rfc_temp['Fraud']==1).sum()"
   ]
  },
  {
   "cell_type": "code",
   "execution_count": 326,
   "metadata": {},
   "outputs": [
    {
     "data": {
      "text/plain": [
       "26"
      ]
     },
     "execution_count": 326,
     "metadata": {},
     "output_type": "execute_result"
    }
   ],
   "source": [
    "(rfc_temp['pred']==1).sum()"
   ]
  },
  {
   "cell_type": "code",
   "execution_count": 325,
   "metadata": {},
   "outputs": [
    {
     "data": {
      "text/plain": [
       "26"
      ]
     },
     "execution_count": 325,
     "metadata": {},
     "output_type": "execute_result"
    }
   ],
   "source": [
    "((rfc_temp['bin']==1)&(rfc_temp['pred']==1)).sum()"
   ]
  },
  {
   "cell_type": "code",
   "execution_count": 327,
   "metadata": {},
   "outputs": [
    {
     "data": {
      "text/plain": [
       "0"
      ]
     },
     "execution_count": 327,
     "metadata": {},
     "output_type": "execute_result"
    }
   ],
   "source": [
    "((rfc_temp['bin']>=2)&(rfc_temp['pred']==1)).sum()"
   ]
  },
  {
   "cell_type": "code",
   "execution_count": 329,
   "metadata": {},
   "outputs": [],
   "source": [
    "rfc_oot_prob = oot_probs.loc[:,['Fraud','rfc']].sort_values('rfc',ascending=False)\n",
    "rfc_oot_prob['bin'] = 100-pd.qcut(rfc_oot_prob.loc[:,'rfc'],100,labels=False)\n",
    "plot_data = []\n",
    "for cutoff in range(1,51):\n",
    "    temp = rfc_oot_prob[rfc_oot_prob['bin']<=cutoff]\n",
    "    gain = 2000*sum(temp['Fraud'])\n",
    "    loss = 50*sum(temp['Fraud']==0)\n",
    "    saving = gain-loss\n",
    "    plot_data.append([cutoff,gain,loss,saving])\n",
    "plot_data = pd.DataFrame(plot_data, columns=['cutoff','Fraud Savings','Lost Sales','Overall Savings'])\n",
    "plot_data = plot_data.set_index('cutoff')"
   ]
  },
  {
   "cell_type": "code",
   "execution_count": 331,
   "metadata": {},
   "outputs": [
    {
     "data": {
      "image/png": "[encoded data removed]",
      "text/plain": [
       "<Figure size 432x288 with 1 Axes>"
      ]
     },
     "metadata": {
      "needs_background": "light"
     },
     "output_type": "display_data"
    }
   ],
   "source": [
    "plot_data.plot()\n",
    "plt.savefig('savings_plot.png')"
   ]
  },
  {
   "cell_type": "code",
   "execution_count": null,
   "metadata": {},
   "outputs": [],
   "source": []
  }
 ],
 "metadata": {
  "kernelspec": {
   "display_name": "Python 3",
   "language": "python",
   "name": "python3"
  },
  "language_info": {
   "codemirror_mode": {
    "name": "ipython",
    "version": 3
   },
   "file_extension": ".py",
   "mimetype": "text/x-python",
   "name": "python",
   "nbconvert_exporter": "python",
   "pygments_lexer": "ipython3",
   "version": "3.7.3"
  }
 },
 "nbformat": 4,
 "nbformat_minor": 2
}
